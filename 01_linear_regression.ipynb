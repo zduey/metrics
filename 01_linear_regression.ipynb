{
 "cells": [
  {
   "cell_type": "markdown",
   "metadata": {},
   "source": [
    "# Linear Regression via Ordinary Least Squares (OLS)\n",
    "\n",
    "We want to understand (and estimate) the relationship (slope) between an (endogenous) input variable and an (exogenous) response variable in a population of interest. More importantly, we want to make the claim that this is a *causal* relationship. By estimating the size and direction of the relationship, we can make a claim about what **would** happen to the outcome we are interested in if we were able to alter the endogenous variable. \n",
    "\n",
    "Let's assume for the moment that we have a credible **identification strategy**. As always, we observe a **sample** of the population of interest. Therefore, part of what makes our identification strategy valid is the application of an estimation procedure that produces a valid estimate of the ATE in the population using the sample. This introduces another wrinkle: what do we do if this sample of data that we have are fundamentally different from the population that we are interested in studying? This consideration is called **external validity**, but we will leave is aside for now and instead focus on threats to the **internal validity** of our study.\n",
    "\n",
    "One strategy for estimating the causal relationship of interest is through linear regression via the **ordinary least squares** estimator.\n",
    "\n",
    "Consider our running example of class size and student achievement. Let $Y_i$ be the the test score for the ith student, $\\beta_0$ be the intercept term, $\\beta_1$ be the effect of increasing a class size by one student, and let $\\epsilon_i$ be the error for the ith student. We are insterested in estimating $\\beta_0$ and $\\beta_1$ from the following model for student achievement:\n",
    "\n",
    "$$Y_i = \\beta_0 + \\beta_1*size + \\epsilon_i$$\n",
    "\n",
    "Ordinary least squares is an **estimator** (**algorithm**) for estimating $\\beta_0$ and $\\beta_1$ from the data we have available. Is is the solution to the equation\n",
    "\n",
    "$$argmin \\sum_{i=1}^n (y_i - (\\hat{\\beta_0} + \\hat{\\beta_1}*size)^2 $$\n",
    "\n",
    "Because we are working with a sample from the population, the estimates $\\hat{\\beta_0}$ and $\\hat{\\beta_1}$ are themselves random variables. Given another sample, these estimates would be different. Therefore, these parameter eaach have a sampling distribution. The properties of these sampling distributions under certain conditions is what will allow us to do statistical inference with the estimates."
   ]
  },
  {
   "cell_type": "markdown",
   "metadata": {},
   "source": [
    "## OLS Assumptions\n",
    "\n",
    "Under certain conditions, the estimates produced by OLS can be shown to be *consistent* and *unbiased* estimates of the true values in the population:\n",
    "\n",
    "1. On average, the predicted values are good, i.e. $\\mathbb{E}[\\epsilon | X] = 0$\n",
    "  - Any unobserved factors not captured by X do not influence the error term\n",
    "  - The error term is a catch-all for anything that causes the value of particular outcome to differ from its prediction\n",
    "  - If there is correlation between the error term and the treatment, then this assumption is violated\n",
    "2. The combined set of treatment and outcome variables are independent and identically distributed\n",
    "  - Non-random assignment violates this assumption\n",
    "  - Panel data violates this assumption\n",
    "  - Hierarhical data violates this assumption\n",
    "3. Larger outliers are unlikely\n",
    "\n",
    "Stated in a more direct and interesting way, the assumption of the linear regression model is analogous to the following thought experiment: \n",
    "\n",
    "1. For each case $i$, Mother Nature establishes the values of each of the predictors\n",
    "2. Mother Nature then multiplies each predictor by its corresponding coefficient\n",
    "3. Mother Nature sums the products from (2) and adds the value of the constant\n",
    "4. Mother Nature then adds a random perturbation\n",
    "\n",
    "The goal is to back-out the coefficients that Mother Nature used to generate the data. OLS is the the estimator used to accomplish the task.\n",
    "\n",
    "First Order Conditions\n",
    "\n",
    "- The predictors used by Mother Nature are known\n",
    "- The transformations used by Mother Nature are known\n",
    "- The predictors are known to be combined in a linear fashion\n",
    "- The predictors are available in the data\n",
    "\n",
    "Second Order Conditions\n",
    "\n",
    "- Each perturbation is realized idepedently of all other perturbations and all come from the same distribution with expectation 0 $$\\epsilon_i \\sim NIID(0, \\sigma^2)$$\n",
    "\n",
    "The distributions of the estimated coefficients is approximately normal when the sample size is large. Unfortunately, there is no \"correct\" answer to the question: how large is large though? Given these limitations and uncertainties, you may be thinking that there must be a better way. Perhaps you are even feeling a little blue now that you understand what must be true for this method to old. Although it is outside the scope of these tutorials, it can be shown that OLS produces the **Best Linear Unbiased Estimates** of the population parameters that we care about, i.e. your estimates are also BLUE! \n",
    "\n",
    "Bad puns aside, let's go ahead and explore some of these ideas using our running example and some simulated data."
   ]
  },
  {
   "cell_type": "code",
   "execution_count": 1,
   "metadata": {},
   "outputs": [],
   "source": [
    "import numpy as np\n",
    "import pandas as pd\n",
    "import matplotlib.pyplot as plt\n",
    "import seaborn as sns\n",
    "import statsmodels.formula.api as smf\n",
    "from scipy.stats import ttest_1samp, ttest_ind\n",
    "\n",
    "np.random.seed(12345)\n",
    "\n",
    "%matplotlib inline"
   ]
  },
  {
   "cell_type": "code",
   "execution_count": 2,
   "metadata": {},
   "outputs": [
    {
     "data": {
      "image/png": "[encoded data removed]",
      "text/plain": [
       "<Figure size 432x288 with 1 Axes>"
      ]
     },
     "metadata": {
      "needs_background": "light"
     },
     "output_type": "display_data"
    }
   ],
   "source": [
    "# Generate our population of student test scores\n",
    "population_size = 5000\n",
    "treatment = np.random.choice([0, 1], population_size)\n",
    "\n",
    "# Mother Nature\n",
    "treatment_effect = 10\n",
    "population_scores = 75 + treatment_effect*treatment + np.random.normal(loc=0.0, scale=5.0, size=population_size)\n",
    "\n",
    "# Plot the distribution\n",
    "treatment_df = pd.DataFrame()\n",
    "treatment_df[\"treated\"] = treatment\n",
    "treatment_df[\"score\"] = population_scores\n",
    "\n",
    "fig, ax = plt.subplots()\n",
    "sns.distplot(treatment_df.loc[treatment_df['treated'] == 1, \"score\"], \n",
    "             kde=False, norm_hist=True, ax=ax, color=\"y\")\n",
    "sns.distplot(treatment_df.loc[treatment_df['treated'] == 0, \"score\"], \n",
    "             kde=False, norm_hist=True, ax=ax, color=\"b\")\n",
    "ax.axvline(np.mean(population_scores), 0, 1, color=\"b\")\n",
    "ax.set_xlim(50, 100)\n",
    "ax.set_title(\"Distribution of Population Test Scores\")\n",
    "ax.set_xlabel(\"Score\")\n",
    "ax.set_ylabel(\"Density\")\n",
    "\n",
    "plt.savefig(\"./images/treatment_distributions.png\", dpi=300)"
   ]
  },
  {
   "cell_type": "markdown",
   "metadata": {},
   "source": [
    "Here, we have created some simulated data using a test score of 75 as our population average and the effect of being in a small class being a 10 point increase in test scores. Although simulating data may seem weird at first, it  is often a great way to build intuition about new methods and their limitations. The above overlays the distributions of test scores for treated and untreated students.\n",
    "\n",
    "Now, we can take a sample from that population and begin to explore how OLS helps us to estimate the average treatment effect of placing students into smaller classrooms."
   ]
  },
  {
   "cell_type": "code",
   "execution_count": 3,
   "metadata": {},
   "outputs": [
    {
     "data": {
      "image/png": "[encoded data removed]",
      "text/plain": [
       "<Figure size 432x288 with 1 Axes>"
      ]
     },
     "metadata": {
      "needs_background": "light"
     },
     "output_type": "display_data"
    }
   ],
   "source": [
    "sample_size = 1000\n",
    "student_sample = np.random.choice(treatment_df.index, replace=False, size=1000)\n",
    "sample_df = treatment_df.loc[student_sample, :]\n",
    "\n",
    "\n",
    "treated = sample_df.loc[sample_df[\"treated\"] == 1, \"score\"]\n",
    "untreated = sample_df.loc[sample_df[\"treated\"] == 0, \"score\"]\n",
    "sample_diff = treated.mean() - untreated.mean()\n",
    "t_stat, p_val = ttest_ind(treated, untreated)\n",
    "\n",
    "# Plot distributions in the sample\n",
    "fig, ax = plt.subplots()\n",
    "sns.distplot(treated, kde=False, label=\"Treated\", ax=ax, color=\"y\")\n",
    "sns.distplot(untreated, kde=False, label=\"Non-Treated\", ax=ax, color=\"b\")\n",
    "ax.axvline(np.mean(treated), 0, 1, color=\"black\")\n",
    "ax.axvline(np.mean(untreated), 0, 1, color=\"black\")\n",
    "ax.set_xlim(50, 100)\n",
    "ax.set_title(\"Distribution of Test Scores: t = {} ({})\".format(round(t_stat, 3), round(p_val, 3)))\n",
    "ax.set_xlabel(\"Score\")\n",
    "ax.set_ylabel(\"Density\")\n",
    "ax.legend()\n",
    "ax.annotate('{}'.format(round(sample_diff, 2)),\n",
    "            xy=(np.mean(untreated),50), xytext=(np.mean(treated) + 0.4,49.4), \n",
    "            arrowprops=dict(arrowstyle='<->', color=\"black\"))\n",
    "\n",
    "plt.savefig(\"./images/treatment_distributions_with_test.png\", dpi=300)"
   ]
  },
  {
   "cell_type": "markdown",
   "metadata": {},
   "source": [
    "The plot above shows the distributions of test scores split by treatment status. The t-stat and corresponding p value for comparing the test scores from the two groups is displayed. The displayed test uses the following set up:\n",
    "\n",
    "- $H_0$: The test scores for treated and non-treated individuals are the same\n",
    "- $H_A$: The test scores for treated and non-treated individuals are different"
   ]
  },
  {
   "cell_type": "code",
   "execution_count": 4,
   "metadata": {},
   "outputs": [
    {
     "data": {
      "text/html": [
       "<table class=\"simpletable\">\n",
       "<caption>OLS Regression Results</caption>\n",
       "<tr>\n",
       "  <th>Dep. Variable:</th>          <td>score</td>      <th>  R-squared:         </th> <td>   0.480</td> \n",
       "</tr>\n",
       "<tr>\n",
       "  <th>Model:</th>                   <td>OLS</td>       <th>  Adj. R-squared:    </th> <td>   0.480</td> \n",
       "</tr>\n",
       "<tr>\n",
       "  <th>Method:</th>             <td>Least Squares</td>  <th>  F-statistic:       </th> <td>   922.6</td> \n",
       "</tr>\n",
       "<tr>\n",
       "  <th>Date:</th>             <td>Sat, 06 Jul 2019</td> <th>  Prob (F-statistic):</th> <td>4.88e-144</td>\n",
       "</tr>\n",
       "<tr>\n",
       "  <th>Time:</th>                 <td>21:18:50</td>     <th>  Log-Likelihood:    </th> <td> -3048.7</td> \n",
       "</tr>\n",
       "<tr>\n",
       "  <th>No. Observations:</th>      <td>  1000</td>      <th>  AIC:               </th> <td>   6101.</td> \n",
       "</tr>\n",
       "<tr>\n",
       "  <th>Df Residuals:</th>          <td>   998</td>      <th>  BIC:               </th> <td>   6111.</td> \n",
       "</tr>\n",
       "<tr>\n",
       "  <th>Df Model:</th>              <td>     1</td>      <th>                     </th>     <td> </td>    \n",
       "</tr>\n",
       "<tr>\n",
       "  <th>Covariance Type:</th>      <td>nonrobust</td>    <th>                     </th>     <td> </td>    \n",
       "</tr>\n",
       "</table>\n",
       "<table class=\"simpletable\">\n",
       "<tr>\n",
       "      <td></td>         <th>coef</th>     <th>std err</th>      <th>t</th>      <th>P>|t|</th>  <th>[0.025</th>    <th>0.975]</th>  \n",
       "</tr>\n",
       "<tr>\n",
       "  <th>Intercept</th> <td>   74.9574</td> <td>    0.228</td> <td>  328.162</td> <td> 0.000</td> <td>   74.509</td> <td>   75.406</td>\n",
       "</tr>\n",
       "<tr>\n",
       "  <th>treated</th>   <td>    9.8120</td> <td>    0.323</td> <td>   30.375</td> <td> 0.000</td> <td>    9.178</td> <td>   10.446</td>\n",
       "</tr>\n",
       "</table>\n",
       "<table class=\"simpletable\">\n",
       "<tr>\n",
       "  <th>Omnibus:</th>       <td> 2.909</td> <th>  Durbin-Watson:     </th> <td>   1.940</td>\n",
       "</tr>\n",
       "<tr>\n",
       "  <th>Prob(Omnibus):</th> <td> 0.233</td> <th>  Jarque-Bera (JB):  </th> <td>   2.802</td>\n",
       "</tr>\n",
       "<tr>\n",
       "  <th>Skew:</th>          <td>-0.127</td> <th>  Prob(JB):          </th> <td>   0.246</td>\n",
       "</tr>\n",
       "<tr>\n",
       "  <th>Kurtosis:</th>      <td> 3.055</td> <th>  Cond. No.          </th> <td>    2.62</td>\n",
       "</tr>\n",
       "</table><br/><br/>Warnings:<br/>[1] Standard Errors assume that the covariance matrix of the errors is correctly specified."
      ],
      "text/plain": [
       "<class 'statsmodels.iolib.summary.Summary'>\n",
       "\"\"\"\n",
       "                            OLS Regression Results                            \n",
       "==============================================================================\n",
       "Dep. Variable:                  score   R-squared:                       0.480\n",
       "Model:                            OLS   Adj. R-squared:                  0.480\n",
       "Method:                 Least Squares   F-statistic:                     922.6\n",
       "Date:                Sat, 06 Jul 2019   Prob (F-statistic):          4.88e-144\n",
       "Time:                        21:18:50   Log-Likelihood:                -3048.7\n",
       "No. Observations:                1000   AIC:                             6101.\n",
       "Df Residuals:                     998   BIC:                             6111.\n",
       "Df Model:                           1                                         \n",
       "Covariance Type:            nonrobust                                         \n",
       "==============================================================================\n",
       "                 coef    std err          t      P>|t|      [0.025      0.975]\n",
       "------------------------------------------------------------------------------\n",
       "Intercept     74.9574      0.228    328.162      0.000      74.509      75.406\n",
       "treated        9.8120      0.323     30.375      0.000       9.178      10.446\n",
       "==============================================================================\n",
       "Omnibus:                        2.909   Durbin-Watson:                   1.940\n",
       "Prob(Omnibus):                  0.233   Jarque-Bera (JB):                2.802\n",
       "Skew:                          -0.127   Prob(JB):                        0.246\n",
       "Kurtosis:                       3.055   Cond. No.                         2.62\n",
       "==============================================================================\n",
       "\n",
       "Warnings:\n",
       "[1] Standard Errors assume that the covariance matrix of the errors is correctly specified.\n",
       "\"\"\""
      ]
     },
     "execution_count": 4,
     "metadata": {},
     "output_type": "execute_result"
    }
   ],
   "source": [
    "model = smf.ols(formula=\"score ~ 1 + treated\", data=sample_df)\n",
    "result = model.fit()\n",
    "result.summary()"
   ]
  },
  {
   "cell_type": "markdown",
   "metadata": {},
   "source": [
    "From the regression summary output, we can see that the coefficient on the treatment variable is identical to the difference in means between the two groups reporter earlier. We can also see that the z-score for the coeficient and its corresponding p-value are identical to the value of the test statistic and p value from our earlier test.\n",
    "\n",
    "So far, we have seen that for this data-generating process, the estimate of the treatment effect from OLS is identical to simply comparing the means between the treated and untreated groups. Now that we understand the mechanics of the baseline linear model, let's consider what happens when the data generating process is more complex."
   ]
  },
  {
   "cell_type": "code",
   "execution_count": 5,
   "metadata": {},
   "outputs": [
    {
     "data": {
      "image/png": "[encoded data removed]",
      "text/plain": [
       "<Figure size 432x288 with 1 Axes>"
      ]
     },
     "metadata": {
      "needs_background": "light"
     },
     "output_type": "display_data"
    }
   ],
   "source": [
    "n = 1000\n",
    "ages = np.arange(10, 15, 1)\n",
    "random_ages = np.random.choice(ages, size=n, replace=True)\n",
    "test_scores = 65 + 1*random_ages + np.random.normal(loc=0.0, scale=5.0, size=n)\n",
    "\n",
    "age_df = pd.DataFrame()\n",
    "age_df[\"Age\"] = random_ages\n",
    "age_df[\"Score\"] = test_scores\n",
    "\n",
    "fix, ax = plt.subplots()\n",
    "\n",
    "data = []\n",
    "for age in sorted(age_df[\"Age\"].unique()):\n",
    "    data.append(age_df.loc[age_df[\"Age\"] == age, \"Score\"].tolist())\n",
    "    \n",
    "v1 = ax.violinplot(data, points=50, positions=ages, widths=0.85,\n",
    "                   showmeans=False, showextrema=False, showmedians=False)\n",
    "\n",
    "for b in v1['bodies']:\n",
    "    m = np.mean(b.get_paths()[0].vertices[:, 0])\n",
    "    b.get_paths()[0].vertices[:, 0] = np.clip(b.get_paths()[0].vertices[:, 0], -np.inf, m)\n",
    "    b.set_color('r')\n",
    "\n",
    "ax.set_title(\"Conditional Distribution of Scores Given Age\")\n",
    "ax.set_xlabel(\"Age\")\n",
    "ax.set_ylabel(\"Score\")\n",
    "\n",
    "\n",
    "plt.savefig(\"./images/conditoinal_distributions.png\", dpi=300)"
   ]
  },
  {
   "cell_type": "code",
   "execution_count": 6,
   "metadata": {},
   "outputs": [
    {
     "data": {
      "image/png": "[encoded data removed]",
      "text/plain": [
       "<Figure size 432x288 with 1 Axes>"
      ]
     },
     "metadata": {
      "needs_background": "light"
     },
     "output_type": "display_data"
    }
   ],
   "source": [
    "# Generate our population of student test scores\n",
    "treatment_df[\"no_support\"] = np.random.choice([0, 1], len(treatment_df))\n",
    "\n",
    "# New DGP\n",
    "treatment_effect = 10\n",
    "no_support_effect = 3\n",
    "treatment_df[\"score\"] = (75 + \n",
    "                         treatment_effect*treatment_df[\"treated\"] - \n",
    "                         no_support_effect*treatment_df[\"no_support\"] + \n",
    "                         np.random.normal(loc=0.0, scale=5.0, size=population_size))\n",
    "\n",
    "\n",
    "sample_size = 1000\n",
    "student_sample = np.random.choice(treatment_df.index, replace=False, size=1000)\n",
    "sample_df = treatment_df.loc[student_sample, :]\n",
    "\n",
    "treated = sample_df.loc[sample_df[\"treated\"] == 1, \"score\"]\n",
    "untreated = sample_df.loc[sample_df[\"treated\"] == 0, \"score\"]\n",
    "sample_diff = treated.mean() - untreated.mean()\n",
    "t_stat, p_val = ttest_ind(treated, untreated)\n",
    "\n",
    "fig, ax = plt.subplots()\n",
    "sns.boxplot(x=\"treated\", y=\"score\", hue=\"no_support\", data=treatment_df, ax=ax)\n",
    "ax.set_title(\"Distribution of Test Scores: t = {} ({})\".format(round(t_stat, 3), round(p_val, 3)))\n",
    "plt.savefig(\"./images/scores_with_support.png\", dpi=300)"
   ]
  },
  {
   "cell_type": "code",
   "execution_count": 7,
   "metadata": {},
   "outputs": [
    {
     "data": {
      "text/html": [
       "<table class=\"simpletable\">\n",
       "<caption>OLS Regression Results</caption>\n",
       "<tr>\n",
       "  <th>Dep. Variable:</th>          <td>score</td>      <th>  R-squared:         </th> <td>   0.482</td> \n",
       "</tr>\n",
       "<tr>\n",
       "  <th>Model:</th>                   <td>OLS</td>       <th>  Adj. R-squared:    </th> <td>   0.482</td> \n",
       "</tr>\n",
       "<tr>\n",
       "  <th>Method:</th>             <td>Least Squares</td>  <th>  F-statistic:       </th> <td>   930.3</td> \n",
       "</tr>\n",
       "<tr>\n",
       "  <th>Date:</th>             <td>Sat, 06 Jul 2019</td> <th>  Prob (F-statistic):</th> <td>6.62e-145</td>\n",
       "</tr>\n",
       "<tr>\n",
       "  <th>Time:</th>                 <td>21:18:51</td>     <th>  Log-Likelihood:    </th> <td> -3064.9</td> \n",
       "</tr>\n",
       "<tr>\n",
       "  <th>No. Observations:</th>      <td>  1000</td>      <th>  AIC:               </th> <td>   6134.</td> \n",
       "</tr>\n",
       "<tr>\n",
       "  <th>Df Residuals:</th>          <td>   998</td>      <th>  BIC:               </th> <td>   6144.</td> \n",
       "</tr>\n",
       "<tr>\n",
       "  <th>Df Model:</th>              <td>     1</td>      <th>                     </th>     <td> </td>    \n",
       "</tr>\n",
       "<tr>\n",
       "  <th>Covariance Type:</th>      <td>nonrobust</td>    <th>                     </th>     <td> </td>    \n",
       "</tr>\n",
       "</table>\n",
       "<table class=\"simpletable\">\n",
       "<tr>\n",
       "      <td></td>         <th>coef</th>     <th>std err</th>      <th>t</th>      <th>P>|t|</th>  <th>[0.025</th>    <th>0.975]</th>  \n",
       "</tr>\n",
       "<tr>\n",
       "  <th>Intercept</th> <td>   73.5967</td> <td>    0.234</td> <td>  314.470</td> <td> 0.000</td> <td>   73.137</td> <td>   74.056</td>\n",
       "</tr>\n",
       "<tr>\n",
       "  <th>treated</th>   <td>   10.0153</td> <td>    0.328</td> <td>   30.501</td> <td> 0.000</td> <td>    9.371</td> <td>   10.660</td>\n",
       "</tr>\n",
       "</table>\n",
       "<table class=\"simpletable\">\n",
       "<tr>\n",
       "  <th>Omnibus:</th>       <td> 1.312</td> <th>  Durbin-Watson:     </th> <td>   1.963</td>\n",
       "</tr>\n",
       "<tr>\n",
       "  <th>Prob(Omnibus):</th> <td> 0.519</td> <th>  Jarque-Bera (JB):  </th> <td>   1.194</td>\n",
       "</tr>\n",
       "<tr>\n",
       "  <th>Skew:</th>          <td> 0.038</td> <th>  Prob(JB):          </th> <td>   0.550</td>\n",
       "</tr>\n",
       "<tr>\n",
       "  <th>Kurtosis:</th>      <td> 3.151</td> <th>  Cond. No.          </th> <td>    2.64</td>\n",
       "</tr>\n",
       "</table><br/><br/>Warnings:<br/>[1] Standard Errors assume that the covariance matrix of the errors is correctly specified."
      ],
      "text/plain": [
       "<class 'statsmodels.iolib.summary.Summary'>\n",
       "\"\"\"\n",
       "                            OLS Regression Results                            \n",
       "==============================================================================\n",
       "Dep. Variable:                  score   R-squared:                       0.482\n",
       "Model:                            OLS   Adj. R-squared:                  0.482\n",
       "Method:                 Least Squares   F-statistic:                     930.3\n",
       "Date:                Sat, 06 Jul 2019   Prob (F-statistic):          6.62e-145\n",
       "Time:                        21:18:51   Log-Likelihood:                -3064.9\n",
       "No. Observations:                1000   AIC:                             6134.\n",
       "Df Residuals:                     998   BIC:                             6144.\n",
       "Df Model:                           1                                         \n",
       "Covariance Type:            nonrobust                                         \n",
       "==============================================================================\n",
       "                 coef    std err          t      P>|t|      [0.025      0.975]\n",
       "------------------------------------------------------------------------------\n",
       "Intercept     73.5967      0.234    314.470      0.000      73.137      74.056\n",
       "treated       10.0153      0.328     30.501      0.000       9.371      10.660\n",
       "==============================================================================\n",
       "Omnibus:                        1.312   Durbin-Watson:                   1.963\n",
       "Prob(Omnibus):                  0.519   Jarque-Bera (JB):                1.194\n",
       "Skew:                           0.038   Prob(JB):                        0.550\n",
       "Kurtosis:                       3.151   Cond. No.                         2.64\n",
       "==============================================================================\n",
       "\n",
       "Warnings:\n",
       "[1] Standard Errors assume that the covariance matrix of the errors is correctly specified.\n",
       "\"\"\""
      ]
     },
     "execution_count": 7,
     "metadata": {},
     "output_type": "execute_result"
    }
   ],
   "source": [
    "model = smf.ols(formula=\"score ~ 1 + treated \", data=sample_df)\n",
    "result = model.fit()\n",
    "result.summary()"
   ]
  },
  {
   "cell_type": "markdown",
   "metadata": {},
   "source": [
    "Like before, fitting the treatment-only model yields an estimated ATE that is identical to running a t-test comparing the means of the treatment and control groups. However, we know that this model is wrong since we generated the data, so let's see what happens when we include familiy support as a regressor."
   ]
  },
  {
   "cell_type": "code",
   "execution_count": 8,
   "metadata": {},
   "outputs": [
    {
     "data": {
      "text/html": [
       "<table class=\"simpletable\">\n",
       "<caption>OLS Regression Results</caption>\n",
       "<tr>\n",
       "  <th>Dep. Variable:</th>          <td>score</td>      <th>  R-squared:         </th> <td>   0.530</td> \n",
       "</tr>\n",
       "<tr>\n",
       "  <th>Model:</th>                   <td>OLS</td>       <th>  Adj. R-squared:    </th> <td>   0.529</td> \n",
       "</tr>\n",
       "<tr>\n",
       "  <th>Method:</th>             <td>Least Squares</td>  <th>  F-statistic:       </th> <td>   561.5</td> \n",
       "</tr>\n",
       "<tr>\n",
       "  <th>Date:</th>             <td>Sat, 06 Jul 2019</td> <th>  Prob (F-statistic):</th> <td>4.73e-164</td>\n",
       "</tr>\n",
       "<tr>\n",
       "  <th>Time:</th>                 <td>21:18:51</td>     <th>  Log-Likelihood:    </th> <td> -3017.0</td> \n",
       "</tr>\n",
       "<tr>\n",
       "  <th>No. Observations:</th>      <td>  1000</td>      <th>  AIC:               </th> <td>   6040.</td> \n",
       "</tr>\n",
       "<tr>\n",
       "  <th>Df Residuals:</th>          <td>   997</td>      <th>  BIC:               </th> <td>   6055.</td> \n",
       "</tr>\n",
       "<tr>\n",
       "  <th>Df Model:</th>              <td>     2</td>      <th>                     </th>     <td> </td>    \n",
       "</tr>\n",
       "<tr>\n",
       "  <th>Covariance Type:</th>      <td>nonrobust</td>    <th>                     </th>     <td> </td>    \n",
       "</tr>\n",
       "</table>\n",
       "<table class=\"simpletable\">\n",
       "<tr>\n",
       "       <td></td>         <th>coef</th>     <th>std err</th>      <th>t</th>      <th>P>|t|</th>  <th>[0.025</th>    <th>0.975]</th>  \n",
       "</tr>\n",
       "<tr>\n",
       "  <th>Intercept</th>  <td>   75.0634</td> <td>    0.267</td> <td>  281.129</td> <td> 0.000</td> <td>   74.539</td> <td>   75.587</td>\n",
       "</tr>\n",
       "<tr>\n",
       "  <th>treated</th>    <td>   10.1112</td> <td>    0.313</td> <td>   32.272</td> <td> 0.000</td> <td>    9.496</td> <td>   10.726</td>\n",
       "</tr>\n",
       "<tr>\n",
       "  <th>no_support</th> <td>   -3.1374</td> <td>    0.313</td> <td>  -10.009</td> <td> 0.000</td> <td>   -3.752</td> <td>   -2.522</td>\n",
       "</tr>\n",
       "</table>\n",
       "<table class=\"simpletable\">\n",
       "<tr>\n",
       "  <th>Omnibus:</th>       <td> 4.475</td> <th>  Durbin-Watson:     </th> <td>   1.977</td>\n",
       "</tr>\n",
       "<tr>\n",
       "  <th>Prob(Omnibus):</th> <td> 0.107</td> <th>  Jarque-Bera (JB):  </th> <td>   4.384</td>\n",
       "</tr>\n",
       "<tr>\n",
       "  <th>Skew:</th>          <td> 0.134</td> <th>  Prob(JB):          </th> <td>   0.112</td>\n",
       "</tr>\n",
       "<tr>\n",
       "  <th>Kurtosis:</th>      <td> 3.182</td> <th>  Cond. No.          </th> <td>    3.13</td>\n",
       "</tr>\n",
       "</table><br/><br/>Warnings:<br/>[1] Standard Errors assume that the covariance matrix of the errors is correctly specified."
      ],
      "text/plain": [
       "<class 'statsmodels.iolib.summary.Summary'>\n",
       "\"\"\"\n",
       "                            OLS Regression Results                            \n",
       "==============================================================================\n",
       "Dep. Variable:                  score   R-squared:                       0.530\n",
       "Model:                            OLS   Adj. R-squared:                  0.529\n",
       "Method:                 Least Squares   F-statistic:                     561.5\n",
       "Date:                Sat, 06 Jul 2019   Prob (F-statistic):          4.73e-164\n",
       "Time:                        21:18:51   Log-Likelihood:                -3017.0\n",
       "No. Observations:                1000   AIC:                             6040.\n",
       "Df Residuals:                     997   BIC:                             6055.\n",
       "Df Model:                           2                                         \n",
       "Covariance Type:            nonrobust                                         \n",
       "==============================================================================\n",
       "                 coef    std err          t      P>|t|      [0.025      0.975]\n",
       "------------------------------------------------------------------------------\n",
       "Intercept     75.0634      0.267    281.129      0.000      74.539      75.587\n",
       "treated       10.1112      0.313     32.272      0.000       9.496      10.726\n",
       "no_support    -3.1374      0.313    -10.009      0.000      -3.752      -2.522\n",
       "==============================================================================\n",
       "Omnibus:                        4.475   Durbin-Watson:                   1.977\n",
       "Prob(Omnibus):                  0.107   Jarque-Bera (JB):                4.384\n",
       "Skew:                           0.134   Prob(JB):                        0.112\n",
       "Kurtosis:                       3.182   Cond. No.                         3.13\n",
       "==============================================================================\n",
       "\n",
       "Warnings:\n",
       "[1] Standard Errors assume that the covariance matrix of the errors is correctly specified.\n",
       "\"\"\""
      ]
     },
     "execution_count": 8,
     "metadata": {},
     "output_type": "execute_result"
    }
   ],
   "source": [
    "model = smf.ols(formula=\"score ~ 1 + treated + no_support\", data=sample_df)\n",
    "result = model.fit()\n",
    "result.summary()"
   ]
  },
  {
   "cell_type": "code",
   "execution_count": 9,
   "metadata": {},
   "outputs": [
    {
     "data": {
      "image/png": "[encoded data removed]",
      "text/plain": [
       "<Figure size 432x288 with 1 Axes>"
      ]
     },
     "metadata": {
      "needs_background": "light"
     },
     "output_type": "display_data"
    }
   ],
   "source": [
    "repeated_samples = 100\n",
    "treatment_effects = []\n",
    "sample_sizes = np.arange(500, 5000, 500)\n",
    "x = []\n",
    "y = []\n",
    "for sample_size in sample_sizes:\n",
    "    for i in range(repeated_samples):\n",
    "        student_sample = np.random.choice(treatment_df.index, replace=False, size=sample_size)\n",
    "        sample_df = treatment_df.loc[student_sample, :]\n",
    "        res = smf.ols(formula=\"score ~ 1 + treated + no_support\", data=sample_df).fit()\n",
    "        x.append(sample_size)\n",
    "        y.append(res.params[\"treated\"])\n",
    "        \n",
    "\n",
    "sample_data = pd.DataFrame(zip(x, y), columns=[\"sample_size\", \"est_ate\"])\n",
    "mean_data = sample_data.groupby(by=\"sample_size\").mean().reset_index()\n",
    "\n",
    "fig, ax = plt.subplots()\n",
    "sns.scatterplot(x=\"sample_size\", y=\"est_ate\", data=sample_data)\n",
    "ax.set_title(\"Sample Size and Estimator Consistency\")\n",
    "ax.set_xlabel(\"Sample Size\")\n",
    "ax.set_ylabel(\"Estimate Treatment Effect\")\n",
    "plt.savefig(\"./images/sample_size_and_consistency.png\", dpi=300)"
   ]
  },
  {
   "cell_type": "markdown",
   "metadata": {},
   "source": [
    "By the central limit theorem, we know that this distribution is approximately normal for large samples. We have calcualted an emprical sampling distribution by taking 500 independent samples of 1000 students each from our population of interest."
   ]
  },
  {
   "cell_type": "code",
   "execution_count": 10,
   "metadata": {},
   "outputs": [
    {
     "data": {
      "image/png": "[encoded data removed]",
      "text/plain": [
       "<Figure size 432x288 with 1 Axes>"
      ]
     },
     "metadata": {
      "needs_background": "light"
     },
     "output_type": "display_data"
    }
   ],
   "source": [
    "repeated_samples = 100 \n",
    "sample_size = 1000\n",
    "no_support_results = []\n",
    "support_results = []\n",
    "for i in range(repeated_samples):\n",
    "    student_sample = np.random.choice(treatment_df.index, replace=False, size=sample_size)\n",
    "    sample_df = treatment_df.loc[student_sample, :]\n",
    "    res = smf.ols(formula=\"score ~ 1 + treated\", data=sample_df).fit()\n",
    "    no_support_results.append(res.params[\"treated\"])\n",
    "    res = smf.ols(formula=\"score ~ 1 + treated + no_support\", data=sample_df).fit()\n",
    "    support_results.append(res.params[\"treated\"])\n",
    "\n",
    "fix, ax = plt.subplots()\n",
    "sns.distplot(no_support_results, color=\"y\", ax=ax, label=\"Exclude Support\")\n",
    "sns.distplot(support_results, color=\"b\", ax=ax, label=\"Include Support\")\n",
    "ax.set_xlabel(\"Estimated ATE\")\n",
    "ax.set_ylabel(\"Density\")\n",
    "ax.legend()\n",
    "ax.set_title(\"Distribution of ATE for Support vs. No-Support Models\")\n",
    "plt.savefig(\"./images/distribution_ate_missing_var.png\", dpi=300)"
   ]
  },
  {
   "cell_type": "markdown",
   "metadata": {},
   "source": [
    "Although the data are generated using a different process than what we specified in the model, we still get an unbiased estimate of the ATE. This is because the excluded variable (family support) is not correlated with treatment. Therefore, we are not in violation of any OLS assumptions that would result in a biased estimate. Hower, including familiy support in the model does allow us to explain more variation in the data, which in turn, results in a more precise estimate of the treatment effect (smaller standard error)."
   ]
  },
  {
   "cell_type": "markdown",
   "metadata": {},
   "source": [
    "## Omitted Variable Bias\n",
    "\n",
    "We now consider the case where a variable is omitted from our model that plays a role in determining test scores and is also correlated with treatment. When such a variable exists and is omitted from our causal model, the estimated treatement effect will be biased. This is cleaverly entitled **omitted variable bias**. Including the variable in our model (if possible) is a way to eliminate this bias. More generally, multiple regression can be seen as a way to circumvent omitted variable bias if we include any and all variables that we believe (from subject matter or theoretical grounds) are important determinants of the outcome we care about."
   ]
  },
  {
   "cell_type": "code",
   "execution_count": 11,
   "metadata": {},
   "outputs": [
    {
     "data": {
      "image/png": "[encoded data removed]",
      "text/plain": [
       "<Figure size 432x288 with 1 Axes>"
      ]
     },
     "metadata": {
      "needs_background": "light"
     },
     "output_type": "display_data"
    }
   ],
   "source": [
    "from scipy.linalg import cholesky\n",
    "from sklearn.preprocessing import minmax_scale, scale\n",
    "\n",
    "\n",
    "# Generate some correlated random data in [0, 1]\n",
    "corr_mat = np.array([\n",
    "    [1.0, 0.8],\n",
    "    [0.8, 1.0]\n",
    "])\n",
    "\n",
    "upper_cholesky = cholesky(corr_mat)\n",
    "random_data = np.random.normal(0, 1, size=(population_size, 2))\n",
    "transformed_data = random_data @ upper_cholesky\n",
    "\n",
    "# Create a no_support dummy using 0.5 threshold\n",
    "no_support = minmax_scale(transformed_data [:, 0], feature_range=(0,1))\n",
    "no_support = [1 if s < 0.5 else 0 for s in no_support]\n",
    "\n",
    "# Normalize income to be between 0 and 100K\n",
    "normalized_income = transformed_data[:, 1]\n",
    "income = 100000*((normalized_income - normalized_income.min()) / (normalized_income.max() - normalized_income.min()))\n",
    "\n",
    "# Build up our dataset\n",
    "treatment_df[\"income\"] = income\n",
    "treatment_df[\"no_support\"] = no_support\n",
    "\n",
    "\n",
    "treatment_effect = 10\n",
    "no_support_effect = 3\n",
    "income_effect = .0001\n",
    "treatment_df[\"score\"] = (75 + \n",
    "                         treatment_effect*treatment_df[\"treated\"] - \n",
    "                         no_support_effect*treatment_df[\"no_support\"] + \n",
    "                         income_effect*treatment_df[\"income\"] +\n",
    "                         np.random.normal(loc=0.0, scale=1.0, size=population_size))\n",
    "\n",
    "\n",
    "sample_size = 1000\n",
    "student_sample = np.random.choice(treatment_df.index, replace=False, size=sample_size)\n",
    "sample_df = treatment_df.loc[student_sample, :]\n",
    "\n",
    "treated = sample_df.loc[sample_df[\"treated\"] == 1, \"score\"]\n",
    "untreated = sample_df.loc[sample_df[\"treated\"] == 0, \"score\"]\n",
    "sample_diff = treated.mean() - untreated.mean()\n",
    "t_stat, p_val = ttest_ind(treated, untreated)\n",
    "t_stat, p_val\n",
    "\n",
    "\n",
    "fig, ax = plt.subplots()\n",
    "sns.distplot(treated, kde=False, label=\"Treated\", ax=ax, color=\"y\")\n",
    "sns.distplot(untreated, kde=False, label=\"Non-Treated\", ax=ax, color=\"b\")\n",
    "ax.axvline(np.mean(treated), 0, 1, color=\"black\")\n",
    "ax.axvline(np.mean(untreated), 0, 1, color=\"black\")\n",
    "ax.set_xlim(50, 100)\n",
    "ax.set_title(\"Distribution of Test Scores: t = {} ({})\".format(round(t_stat, 3), round(p_val, 3)))\n",
    "ax.set_xlabel(\"Score\")\n",
    "ax.set_ylabel(\"Density\")\n",
    "ax.legend()\n",
    "ax.annotate('{}'.format(round(sample_diff, 2)),\n",
    "            xy=(np.mean(untreated),50), xytext=(np.mean(treated) + 0.4,49.4), \n",
    "            arrowprops=dict(arrowstyle='<->', color=\"black\"))\n",
    "\n",
    "plt.savefig(\"./images/treatment_distributions_ovb.png\", dpi=300)"
   ]
  },
  {
   "cell_type": "code",
   "execution_count": 12,
   "metadata": {},
   "outputs": [
    {
     "data": {
      "text/html": [
       "<table class=\"simpletable\">\n",
       "<caption>OLS Regression Results</caption>\n",
       "<tr>\n",
       "  <th>Dep. Variable:</th>          <td>score</td>      <th>  R-squared:         </th> <td>   0.936</td> \n",
       "</tr>\n",
       "<tr>\n",
       "  <th>Model:</th>                   <td>OLS</td>       <th>  Adj. R-squared:    </th> <td>   0.936</td> \n",
       "</tr>\n",
       "<tr>\n",
       "  <th>Method:</th>             <td>Least Squares</td>  <th>  F-statistic:       </th> <td>3.665e+04</td>\n",
       "</tr>\n",
       "<tr>\n",
       "  <th>Date:</th>             <td>Sat, 06 Jul 2019</td> <th>  Prob (F-statistic):</th>  <td>  0.00</td>  \n",
       "</tr>\n",
       "<tr>\n",
       "  <th>Time:</th>                 <td>21:19:06</td>     <th>  Log-Likelihood:    </th> <td> -8942.7</td> \n",
       "</tr>\n",
       "<tr>\n",
       "  <th>No. Observations:</th>      <td>  5000</td>      <th>  AIC:               </th> <td>1.789e+04</td>\n",
       "</tr>\n",
       "<tr>\n",
       "  <th>Df Residuals:</th>          <td>  4997</td>      <th>  BIC:               </th> <td>1.791e+04</td>\n",
       "</tr>\n",
       "<tr>\n",
       "  <th>Df Model:</th>              <td>     2</td>      <th>                     </th>     <td> </td>    \n",
       "</tr>\n",
       "<tr>\n",
       "  <th>Covariance Type:</th>      <td>nonrobust</td>    <th>                     </th>     <td> </td>    \n",
       "</tr>\n",
       "</table>\n",
       "<table class=\"simpletable\">\n",
       "<tr>\n",
       "       <td></td>         <th>coef</th>     <th>std err</th>      <th>t</th>      <th>P>|t|</th>  <th>[0.025</th>    <th>0.975]</th>  \n",
       "</tr>\n",
       "<tr>\n",
       "  <th>Intercept</th>  <td>   81.0428</td> <td>    0.036</td> <td> 2236.778</td> <td> 0.000</td> <td>   80.972</td> <td>   81.114</td>\n",
       "</tr>\n",
       "<tr>\n",
       "  <th>treatment</th>  <td>    9.9833</td> <td>    0.041</td> <td>  243.767</td> <td> 0.000</td> <td>    9.903</td> <td>   10.064</td>\n",
       "</tr>\n",
       "<tr>\n",
       "  <th>no_support</th> <td>   -4.7325</td> <td>    0.041</td> <td> -115.512</td> <td> 0.000</td> <td>   -4.813</td> <td>   -4.652</td>\n",
       "</tr>\n",
       "</table>\n",
       "<table class=\"simpletable\">\n",
       "<tr>\n",
       "  <th>Omnibus:</th>       <td> 3.494</td> <th>  Durbin-Watson:     </th> <td>   2.028</td>\n",
       "</tr>\n",
       "<tr>\n",
       "  <th>Prob(Omnibus):</th> <td> 0.174</td> <th>  Jarque-Bera (JB):  </th> <td>   3.437</td>\n",
       "</tr>\n",
       "<tr>\n",
       "  <th>Skew:</th>          <td> 0.059</td> <th>  Prob(JB):          </th> <td>   0.179</td>\n",
       "</tr>\n",
       "<tr>\n",
       "  <th>Kurtosis:</th>      <td> 3.051</td> <th>  Cond. No.          </th> <td>    3.26</td>\n",
       "</tr>\n",
       "</table><br/><br/>Warnings:<br/>[1] Standard Errors assume that the covariance matrix of the errors is correctly specified."
      ],
      "text/plain": [
       "<class 'statsmodels.iolib.summary.Summary'>\n",
       "\"\"\"\n",
       "                            OLS Regression Results                            \n",
       "==============================================================================\n",
       "Dep. Variable:                  score   R-squared:                       0.936\n",
       "Model:                            OLS   Adj. R-squared:                  0.936\n",
       "Method:                 Least Squares   F-statistic:                 3.665e+04\n",
       "Date:                Sat, 06 Jul 2019   Prob (F-statistic):               0.00\n",
       "Time:                        21:19:06   Log-Likelihood:                -8942.7\n",
       "No. Observations:                5000   AIC:                         1.789e+04\n",
       "Df Residuals:                    4997   BIC:                         1.791e+04\n",
       "Df Model:                           2                                         \n",
       "Covariance Type:            nonrobust                                         \n",
       "==============================================================================\n",
       "                 coef    std err          t      P>|t|      [0.025      0.975]\n",
       "------------------------------------------------------------------------------\n",
       "Intercept     81.0428      0.036   2236.778      0.000      80.972      81.114\n",
       "treatment      9.9833      0.041    243.767      0.000       9.903      10.064\n",
       "no_support    -4.7325      0.041   -115.512      0.000      -4.813      -4.652\n",
       "==============================================================================\n",
       "Omnibus:                        3.494   Durbin-Watson:                   2.028\n",
       "Prob(Omnibus):                  0.174   Jarque-Bera (JB):                3.437\n",
       "Skew:                           0.059   Prob(JB):                        0.179\n",
       "Kurtosis:                       3.051   Cond. No.                         3.26\n",
       "==============================================================================\n",
       "\n",
       "Warnings:\n",
       "[1] Standard Errors assume that the covariance matrix of the errors is correctly specified.\n",
       "\"\"\""
      ]
     },
     "execution_count": 12,
     "metadata": {},
     "output_type": "execute_result"
    }
   ],
   "source": [
    "model = smf.ols(formula=\"score ~ 1 + treatment + no_support\", data=treatment_df)\n",
    "result = model.fit()\n",
    "result.summary()"
   ]
  },
  {
   "cell_type": "code",
   "execution_count": 13,
   "metadata": {},
   "outputs": [
    {
     "data": {
      "text/html": [
       "<table class=\"simpletable\">\n",
       "<caption>OLS Regression Results</caption>\n",
       "<tr>\n",
       "  <th>Dep. Variable:</th>          <td>score</td>      <th>  R-squared:         </th> <td>   0.970</td> \n",
       "</tr>\n",
       "<tr>\n",
       "  <th>Model:</th>                   <td>OLS</td>       <th>  Adj. R-squared:    </th> <td>   0.970</td> \n",
       "</tr>\n",
       "<tr>\n",
       "  <th>Method:</th>             <td>Least Squares</td>  <th>  F-statistic:       </th> <td>5.344e+04</td>\n",
       "</tr>\n",
       "<tr>\n",
       "  <th>Date:</th>             <td>Sat, 06 Jul 2019</td> <th>  Prob (F-statistic):</th>  <td>  0.00</td>  \n",
       "</tr>\n",
       "<tr>\n",
       "  <th>Time:</th>                 <td>21:19:06</td>     <th>  Log-Likelihood:    </th> <td> -7074.1</td> \n",
       "</tr>\n",
       "<tr>\n",
       "  <th>No. Observations:</th>      <td>  5000</td>      <th>  AIC:               </th> <td>1.416e+04</td>\n",
       "</tr>\n",
       "<tr>\n",
       "  <th>Df Residuals:</th>          <td>  4996</td>      <th>  BIC:               </th> <td>1.418e+04</td>\n",
       "</tr>\n",
       "<tr>\n",
       "  <th>Df Model:</th>              <td>     3</td>      <th>                     </th>     <td> </td>    \n",
       "</tr>\n",
       "<tr>\n",
       "  <th>Covariance Type:</th>      <td>nonrobust</td>    <th>                     </th>     <td> </td>    \n",
       "</tr>\n",
       "</table>\n",
       "<table class=\"simpletable\">\n",
       "<tr>\n",
       "       <td></td>         <th>coef</th>     <th>std err</th>      <th>t</th>      <th>P>|t|</th>  <th>[0.025</th>    <th>0.975]</th>  \n",
       "</tr>\n",
       "<tr>\n",
       "  <th>Intercept</th>  <td>   75.0007</td> <td>    0.085</td> <td>  884.157</td> <td> 0.000</td> <td>   74.834</td> <td>   75.167</td>\n",
       "</tr>\n",
       "<tr>\n",
       "  <th>treatment</th>  <td>    9.9739</td> <td>    0.028</td> <td>  353.851</td> <td> 0.000</td> <td>    9.919</td> <td>   10.029</td>\n",
       "</tr>\n",
       "<tr>\n",
       "  <th>no_support</th> <td>   -2.9985</td> <td>    0.037</td> <td>  -82.022</td> <td> 0.000</td> <td>   -3.070</td> <td>   -2.927</td>\n",
       "</tr>\n",
       "<tr>\n",
       "  <th>income</th>     <td>    0.0001</td> <td> 1.35e-06</td> <td>   74.521</td> <td> 0.000</td> <td> 9.78e-05</td> <td>    0.000</td>\n",
       "</tr>\n",
       "</table>\n",
       "<table class=\"simpletable\">\n",
       "<tr>\n",
       "  <th>Omnibus:</th>       <td> 0.215</td> <th>  Durbin-Watson:     </th> <td>   2.087</td>\n",
       "</tr>\n",
       "<tr>\n",
       "  <th>Prob(Omnibus):</th> <td> 0.898</td> <th>  Jarque-Bera (JB):  </th> <td>   0.197</td>\n",
       "</tr>\n",
       "<tr>\n",
       "  <th>Skew:</th>          <td>-0.015</td> <th>  Prob(JB):          </th> <td>   0.906</td>\n",
       "</tr>\n",
       "<tr>\n",
       "  <th>Kurtosis:</th>      <td> 3.010</td> <th>  Cond. No.          </th> <td>3.37e+05</td>\n",
       "</tr>\n",
       "</table><br/><br/>Warnings:<br/>[1] Standard Errors assume that the covariance matrix of the errors is correctly specified.<br/>[2] The condition number is large, 3.37e+05. This might indicate that there are<br/>strong multicollinearity or other numerical problems."
      ],
      "text/plain": [
       "<class 'statsmodels.iolib.summary.Summary'>\n",
       "\"\"\"\n",
       "                            OLS Regression Results                            \n",
       "==============================================================================\n",
       "Dep. Variable:                  score   R-squared:                       0.970\n",
       "Model:                            OLS   Adj. R-squared:                  0.970\n",
       "Method:                 Least Squares   F-statistic:                 5.344e+04\n",
       "Date:                Sat, 06 Jul 2019   Prob (F-statistic):               0.00\n",
       "Time:                        21:19:06   Log-Likelihood:                -7074.1\n",
       "No. Observations:                5000   AIC:                         1.416e+04\n",
       "Df Residuals:                    4996   BIC:                         1.418e+04\n",
       "Df Model:                           3                                         \n",
       "Covariance Type:            nonrobust                                         \n",
       "==============================================================================\n",
       "                 coef    std err          t      P>|t|      [0.025      0.975]\n",
       "------------------------------------------------------------------------------\n",
       "Intercept     75.0007      0.085    884.157      0.000      74.834      75.167\n",
       "treatment      9.9739      0.028    353.851      0.000       9.919      10.029\n",
       "no_support    -2.9985      0.037    -82.022      0.000      -3.070      -2.927\n",
       "income         0.0001   1.35e-06     74.521      0.000    9.78e-05       0.000\n",
       "==============================================================================\n",
       "Omnibus:                        0.215   Durbin-Watson:                   2.087\n",
       "Prob(Omnibus):                  0.898   Jarque-Bera (JB):                0.197\n",
       "Skew:                          -0.015   Prob(JB):                        0.906\n",
       "Kurtosis:                       3.010   Cond. No.                     3.37e+05\n",
       "==============================================================================\n",
       "\n",
       "Warnings:\n",
       "[1] Standard Errors assume that the covariance matrix of the errors is correctly specified.\n",
       "[2] The condition number is large, 3.37e+05. This might indicate that there are\n",
       "strong multicollinearity or other numerical problems.\n",
       "\"\"\""
      ]
     },
     "execution_count": 13,
     "metadata": {},
     "output_type": "execute_result"
    }
   ],
   "source": [
    "model = smf.ols(formula=\"score ~ 1 + treatment + no_support + income\", data=treatment_df)\n",
    "result = model.fit()\n",
    "result.summary()"
   ]
  },
  {
   "cell_type": "markdown",
   "metadata": {},
   "source": [
    "Comparing the two models above, we can see that the estimated treatment effect is comparable. However, the specification that excludes income results is a much larger (in absolute terms) coefficient on the effect of no family support than the specification that includes income as a predictor. This is due to the fact that family support and income are highly correlated: higher family income increases the probability of family support. Therefore, by excluding income from our model, the effect of income on test scores is (at least partially) incorrectly attributed to not having family support.\n",
    "\n",
    "This example consider an omitted variable that was correlated with an explanatory variable that was not the treatment variable. The same logic anc consequences result if the omitted variable is correlated with treatment. In the section section, we will consider a technique for handling the general problem of having one or more regresors that are correlated with the error term."
   ]
  },
  {
   "cell_type": "code",
   "execution_count": 14,
   "metadata": {},
   "outputs": [
    {
     "data": {
      "image/png": "[encoded data removed]",
      "text/plain": [
       "<Figure size 432x288 with 1 Axes>"
      ]
     },
     "metadata": {
      "needs_background": "light"
     },
     "output_type": "display_data"
    }
   ],
   "source": [
    "repeated_samples = 100 \n",
    "sample_size = 1000\n",
    "no_income_results = []\n",
    "income_results = []\n",
    "for i in range(repeated_samples):\n",
    "    student_sample = np.random.choice(treatment_df.index, replace=False, size=sample_size)\n",
    "    sample_df = treatment_df.loc[student_sample, :]\n",
    "    res = smf.ols(formula=\"score ~ 1 + treated + no_support\", data=sample_df).fit()\n",
    "    no_income_results.append(res.params[\"no_support\"])\n",
    "    res = smf.ols(formula=\"score ~ 1 + treated + no_support + income\", data=sample_df).fit()\n",
    "    income_results.append(res.params[\"no_support\"])\n",
    "\n",
    "fix, ax = plt.subplots()\n",
    "sns.distplot(no_income_results, color=\"y\", ax=ax, label=\"Exclude Support\")\n",
    "sns.distplot(income_results, color=\"b\", ax=ax, label=\"Include Support\")\n",
    "ax.set_xlabel(\"Estimated Effect of Family Support\")\n",
    "ax.set_ylabel(\"Density\")\n",
    "ax.legend()\n",
    "ax.set_title(\"Estimated Effect of Family Support for Income vs. No-Income Models\")\n",
    "plt.savefig(\"./images/family_support_coef.png\", dpi=300)"
   ]
  },
  {
   "cell_type": "code",
   "execution_count": 15,
   "metadata": {},
   "outputs": [
    {
     "data": {
      "image/png": "[encoded data removed]",
      "text/plain": [
       "<Figure size 432x288 with 1 Axes>"
      ]
     },
     "metadata": {
      "needs_background": "light"
     },
     "output_type": "display_data"
    }
   ],
   "source": [
    "repeated_samples = 100 \n",
    "sample_size = 1000\n",
    "no_income_results = []\n",
    "x = []\n",
    "y = []\n",
    "sample_sizes = np.arange(500, 5000, 500)\n",
    "\n",
    "for sample_size in sample_sizes:\n",
    "    for i in range(repeated_samples):\n",
    "        student_sample = np.random.choice(treatment_df.index, replace=False, size=sample_size)\n",
    "        sample_df = treatment_df.loc[student_sample, :]\n",
    "        \n",
    "        res_no_income = smf.ols(formula=\"score ~ 1 + treated + no_support\", data=sample_df).fit()\n",
    "        res_income = smf.ols(formula=\"score ~ 1 + treated + no_support + income\", data=sample_df).fit()\n",
    "        x.append(sample_size)\n",
    "        y.append((res_no_income.params[\"no_support\"] - res_income.params[\"no_support\"]))\n",
    "        \n",
    "df = pd.DataFrame()\n",
    "df[\"sample_size\"] = x\n",
    "df[\"diff_in_est_effect\"] = y\n",
    "\n",
    "fig, ax = plt.subplots()\n",
    "sns.boxplot(x=\"sample_size\", y=\"diff_in_est_effect\",  data=df, ax=ax)\n",
    "ax.set_title(\"Sample Size and Bias\")\n",
    "plt.savefig(\"./images/sample_size_bias.png\", dpi=300)"
   ]
  },
  {
   "cell_type": "markdown",
   "metadata": {},
   "source": [
    "The boxplot above shows the difference in the estimated coefficient of no family support for a model that includes family income and a model that does not include family income. If there were no omitted variable bias, this difference should concetrate around zero and become tighter as the sample size gets larger. Clearly, the estimated coefficient is biased downward by not including income as a regeressor. The important point to this plot is that bias is independent of sample size. No amount of additional data will correct for an incorrect model. Stated differently, **omitted variable bias** is corrected by including additional regressors. Simply collecting more data provides not guarantees that the estimates will become less biased."
   ]
  }
 ],
 "metadata": {
  "kernelspec": {
   "display_name": "Python 3",
   "language": "python",
   "name": "python3"
  },
  "language_info": {
   "codemirror_mode": {
    "name": "ipython",
    "version": 3
   },
   "file_extension": ".py",
   "mimetype": "text/x-python",
   "name": "python",
   "nbconvert_exporter": "python",
   "pygments_lexer": "ipython3",
   "version": "3.7.3"
  }
 },
 "nbformat": 4,
 "nbformat_minor": 2
}

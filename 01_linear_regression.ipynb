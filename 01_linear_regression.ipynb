{
 "cells": [
  {
   "cell_type": "markdown",
   "metadata": {},
   "source": [
    "# Linear Regression via Ordinary Least Squares (OLS)\n",
    "\n",
    "The following thought experiment underlies the standard linear regression model:\n",
    "1. For each case $i$, Mother Nature establishes the values of each of the predictors\n",
    "2. Mother Nature then multiplies each predictor by its corresponding coefficient\n",
    "3. Mother Nature sums the products from (2) and adds the value of the constant\n",
    "4. Mother Nature then adds a random perturbation\n",
    "\n",
    "The goal of the data analyst is to back-out the coefficients that Mother Nature used to generate the data. OLS is the the estimator used to accomplish the task.\n",
    "\n",
    "First Order Conditions\n",
    "\n",
    "- The predictors used by Mother Nature are known\n",
    "- The transformations used by Mother Nature are known\n",
    "- The predictors are known to be combined in a linear fashion\n",
    "- The predictors are available in the data\n",
    "\n",
    "Second Order Conditions\n",
    "\n",
    "- Each perturbation is realized idepedently of all other perturbations and all come from the same distribution with expectation 0 $$\\epsilon_i \\sim NIID(0, \\sigma^2)$$\n",
    "\n",
    "Distributions of the estimated coefficients is approximately normal when the sample size is large. How large is large though?"
   ]
  },
  {
   "cell_type": "markdown",
   "metadata": {},
   "source": [
    "## Treatment Only"
   ]
  },
  {
   "cell_type": "code",
   "execution_count": null,
   "metadata": {},
   "outputs": [],
   "source": [
    "sample_size = 1000\n",
    "treatment = np.random.choice([0, 1], sample_size)\n",
    "test_scores = 75 + 10*treatment + np.random.normal(scale=5.0, size=sample_size)\n",
    "\n",
    "treatment_only_df = pd.DataFrame()\n",
    "treatment_only_df[\"treated\"] = treatment\n",
    "treatment_only_df[\"score\"] = test_scores\n",
    "\n",
    "fig, ax = plt.subplots()\n",
    "sns.distplot(test_scores, kde=False, rug=True, norm_hist=True, ax=ax)\n",
    "ax.axvline(np.mean(test_scores), 0, 1, color=\"r\")\n",
    "ax.set_xlim(50, 100)\n",
    "ax.set_title(\"Distribution of Test Scores\".format(round(t, 2), round(p_val, 2)))\n",
    "ax.set_xlabel(\"Score\")\n",
    "ax.set_ylabel(\"Density\")"
   ]
  },
  {
   "cell_type": "code",
   "execution_count": null,
   "metadata": {},
   "outputs": [],
   "source": [
    "model = smf.ols(formula=\"score ~ 1 + treatment\", data=treatment_only_df)\n",
    "result = model.fit(use_t=True)\n",
    "result.summary()"
   ]
  },
  {
   "cell_type": "code",
   "execution_count": null,
   "metadata": {},
   "outputs": [],
   "source": [
    "treated = test_scores[np.where(treatment == 1)]\n",
    "untreated = test_scores[np.where(treatment == 0)]\n",
    "\n",
    "t_stat, p_val = ttest_ind(treated, untreated)\n",
    "\n",
    "fig, ax = plt.subplots()\n",
    "sns.distplot(treated, kde=False, label=\"Treated\", ax=ax)\n",
    "sns.distplot(untreated, kde=False, label=\"Non-Treated\", ax=ax)\n",
    "ax.axvline(np.mean(treated), 0, 1, color=\"black\")\n",
    "ax.axvline(np.mean(untreated), 0, 1, color=\"black\")\n",
    "ax.set_xlim(50, 100)\n",
    "ax.set_title(\"Distribution of Test Scores: t = {} ({})\".format(round(t_stat, 3), round(p_val, 3)))\n",
    "ax.set_xlabel(\"Score\")\n",
    "ax.set_ylabel(\"Density\")\n",
    "ax.legend()\n",
    "ax.annotate('{}'.format(round(np.mean(treated) - np.mean(untreated), 2)),\n",
    "            xy=(np.mean(untreated),50), xytext=(np.mean(treated) + 0.4,49.4), \n",
    "            arrowprops=dict(arrowstyle='<->', color=\"black\"))"
   ]
  },
  {
   "cell_type": "markdown",
   "metadata": {},
   "source": [
    "- $H_0$: The test scores for treated and non-treated individuals are the same\n",
    "- $H_A$: The test scores for treated and non-treated individuals are different\n",
    "- The test-statistic from a two sample t-test of the means is identical to the z score reported in the regression summary with only treatment and an intercept"
   ]
  },
  {
   "cell_type": "markdown",
   "metadata": {},
   "source": [
    "## Omitted Variables"
   ]
  },
  {
   "cell_type": "code",
   "execution_count": null,
   "metadata": {},
   "outputs": [],
   "source": [
    "sample_size = 1000\n",
    "treatment = np.random.choice([0, 1], sample_size)\n",
    "\n",
    "random_cov = make_spd_matrix(2)\n",
    "random_a, random_b = np.random.multivariate_normal([0, 0], random_cov, sample_size).T\n",
    "\n",
    "test_scores = 75 + 5*treatment + random_a + random_b + np.random.normal(scale=5.0, size=sample_size)\n",
    "\n",
    "ovb_df = pd.DataFrame()\n",
    "ovb_df[\"treatment\"] = treatment\n",
    "ovb_df[\"a\"] = random_a\n",
    "ovb_df[\"b\"] = random_b\n",
    "ovb_df[\"score\"] = test_scores\n",
    "\n",
    "fig, ax = plt.subplots()\n",
    "sns.distplot(test_scores, kde=False, rug=True, norm_hist=True, ax=ax)\n",
    "ax.axvline(np.mean(test_scores), 0, 1, color=\"r\")\n",
    "ax.set_xlim(50, 100)\n",
    "ax.set_title(\"Distribution of Test Scores\".format(round(t, 2), round(p_val, 2)))\n",
    "ax.set_xlabel(\"Score\")\n",
    "ax.set_ylabel(\"Density\")"
   ]
  },
  {
   "cell_type": "code",
   "execution_count": null,
   "metadata": {},
   "outputs": [],
   "source": [
    "if (random_cov[0][0] > random_cov[1][1]):\n",
    "    formula = \"score ~ 1 + treatment + random_b\"\n",
    "else:\n",
    "    formula = \"score ~ 1 + treatment + random_a\"\n",
    "    \n",
    "model = smf.ols(formula=formula, data=ovb_df)\n",
    "result = model.fit(use_t=True)\n",
    "result.summary()"
   ]
  },
  {
   "cell_type": "code",
   "execution_count": null,
   "metadata": {},
   "outputs": [],
   "source": [
    "model = smf.ols(formula=\"score ~ 1 + treatment + random_a + random_b\", data=ovb_df)\n",
    "result = model.fit(use_t=True)\n",
    "result.summary()"
   ]
  }
 ],
 "metadata": {
  "kernelspec": {
   "display_name": "Python 3",
   "language": "python",
   "name": "python3"
  },
  "language_info": {
   "codemirror_mode": {
    "name": "ipython",
    "version": 3
   },
   "file_extension": ".py",
   "mimetype": "text/x-python",
   "name": "python",
   "nbconvert_exporter": "python",
   "pygments_lexer": "ipython3",
   "version": "3.7.3"
  }
 },
 "nbformat": 4,
 "nbformat_minor": 2
}

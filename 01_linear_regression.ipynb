{
 "cells": [
  {
   "cell_type": "markdown",
   "metadata": {},
   "source": [
    "# Linear Regression via Ordinary Least Squares (OLS)\n",
    "\n",
    "We want to understand (and estimate) the relationship (slope) between an input variable (endogeneous) and a response (exogneous) variable in a population of interest. We typically want to make the claim that this is a *causal* relationship. By estimating the size and direction of the relationship, we can make a claim about what **would** happen to the outcome we are interested in if we were able to alter the endogenous variable. Let's assume for the moment that we have a credible **identification strategy**. As always, only observe a **sample** of the population of interest. Therefore, part of what makes our identification strategy valid is the application of an estimation procedure that produces an estimate of the ATE in the population from the sample of data that we have available. This introduces another wrinkle: what do we do if this sample of data that we have are fundamentally different from the population that we are interested in studying? Let's leave that aside for now and instead consider \n",
    "\n",
    "One strategy for estimating the causal relationship of interest is through linear regression, a.k.k ordinary least squares.\n",
    "\n",
    "Let's consider our running example of class size and student achievement. Let $Y_i$ be the the test score for the ith student, $\\beta_0$ be the intercept term, $\\beta_1$ be the effect of increasing a class size by one student, and let $\\epsilon_i$ be the error for the ith student. We are insterested in estimating $\\beta_0$ and $\\beta_1$ from the following model for student achievement:\n",
    "\n",
    "$$Y_i = \\beta_0 + \\beta_1*size + \\epsilon_i$$\n",
    "\n",
    "Ordinary least squares is an **estimator** (**algorithm**) for estimating $\\beta_0$ and $\\beta_1$ from the data we have available. Is is the solution to the equation\n",
    "\n",
    "$$argmin \\sum_{i=1}^n (y_i - (\\hat{\\beta_0} + \\hat{\\beta_1}*size)^2 $$\n",
    "\n",
    "Because we are working with a sample from the population, the estimates $\\hat{\\beta_0}$ and $\\hat{\\beta_1}$ are themselves random variables. Given another sample, these estimates would be different. Therefore, these parameter eaach have a sampling distribution, just like in our earlier discussion."
   ]
  },
  {
   "cell_type": "markdown",
   "metadata": {},
   "source": [
    "## OLS Assumptions\n",
    "\n",
    "Under certain conditions, the estimates produced by OLS can be shown to be *consistent* and *unbiased* estimates of the true values in the population:\n",
    "\n",
    "1. On average, the predicted values are good, i.e. $\\mathbb{E}[\\epsilon | X] = 0$\n",
    "  - Any unobserved factors not captured by X do not influence the error term\n",
    "  - The error term is a catch-all for anything that causes the value of particular outcome to differ from its prediction\n",
    "  - If there is correlation between the error term and the treatment, then this assumption is violated\n",
    "2. The combined set of treatment and outcome variables are independent and identically distributed\n",
    "  - Non-random assignment violates this assumption\n",
    "  - Panel data violates this assumption\n",
    "  - Hierarhical data violates this assumption\n",
    "3. Larger outliers are unlikely\n",
    "\n",
    "Stated in a more direct and interesting way, the assumption of the linear regression model is analogous to the following though experiment: \n",
    "\n",
    "1. For each case $i$, Mother Nature establishes the values of each of the predictors\n",
    "2. Mother Nature then multiplies each predictor by its corresponding coefficient\n",
    "3. Mother Nature sums the products from (2) and adds the value of the constant\n",
    "4. Mother Nature then adds a random perturbation\n",
    "\n",
    "The goal is to back-out the coefficients that Mother Nature used to generate the data. OLS is the the estimator used to accomplish the task.\n",
    "\n",
    "First Order Conditions\n",
    "\n",
    "- The predictors used by Mother Nature are known\n",
    "- The transformations used by Mother Nature are known\n",
    "- The predictors are known to be combined in a linear fashion\n",
    "- The predictors are available in the data\n",
    "\n",
    "Second Order Conditions\n",
    "\n",
    "- Each perturbation is realized idepedently of all other perturbations and all come from the same distribution with expectation 0 $$\\epsilon_i \\sim NIID(0, \\sigma^2)$$\n",
    "\n",
    "The distributions of the estimated coefficients is approximately normal when the sample size is large. Unfortunately, there is no \"correct\" answer to the question of: how large is large though? Given these limitations and uncertainties, you may be thinking that there must be a better way. Perhaps you are even feeling a little blue now that you understand what must be true for this method to old. Although it is outside the scope of these tutorials, it can be shown that OLS produces the **Best Linear Unbiased Estimates** of the population parameters that we care about, i.e. your estimates are also BLUE! \n",
    "\n",
    "Bad puns aside, let's go ahead and explore some of these ideas using our running example and some simulated data."
   ]
  },
  {
   "cell_type": "code",
   "execution_count": 1,
   "metadata": {},
   "outputs": [],
   "source": [
    "import numpy as np\n",
    "import pandas as pd\n",
    "import matplotlib.pyplot as plt\n",
    "import seaborn as sns\n",
    "import statsmodels.formula.api as smf\n",
    "from scipy.stats import ttest_1samp, ttest_ind\n",
    "\n",
    "%matplotlib inline"
   ]
  },
  {
   "cell_type": "code",
   "execution_count": 2,
   "metadata": {},
   "outputs": [
    {
     "data": {
      "text/plain": [
       "Text(0, 0.5, 'Density')"
      ]
     },
     "execution_count": 2,
     "metadata": {},
     "output_type": "execute_result"
    },
    {
     "data": {
      "image/png": "[encoded data removed]",
      "text/plain": [
       "<Figure size 432x288 with 1 Axes>"
      ]
     },
     "metadata": {
      "needs_background": "light"
     },
     "output_type": "display_data"
    }
   ],
   "source": [
    "# Generate our population of student test scores\n",
    "population_size = 5000\n",
    "treatment = np.random.choice([0, 1], population_size)\n",
    "\n",
    "# Mother Nature\n",
    "treatment_effect = 10\n",
    "population_scores = 75 + treatment_effect*treatment + np.random.normal(loc=0.0, scale=5.0, size=population_size)\n",
    "\n",
    "# Plot the distribution\n",
    "treatment_df = pd.DataFrame()\n",
    "treatment_df[\"treated\"] = treatment\n",
    "treatment_df[\"score\"] = population_scores\n",
    "\n",
    "fig, ax = plt.subplots()\n",
    "sns.distplot(treatment_df.loc[treatment_df['treated'] == 1, \"score\"], \n",
    "             kde=False, rug=True, norm_hist=True, ax=ax, color=\"y\")\n",
    "sns.distplot(treatment_df.loc[treatment_df['treated'] == 0, \"score\"], \n",
    "             kde=False, rug=True, norm_hist=True, ax=ax, color=\"b\")\n",
    "ax.axvline(np.mean(population_scores), 0, 1, color=\"b\")\n",
    "ax.set_xlim(50, 100)\n",
    "ax.set_title(\"Distribution of Population Test Scores\")\n",
    "ax.set_xlabel(\"Score\")\n",
    "ax.set_ylabel(\"Density\")"
   ]
  },
  {
   "cell_type": "markdown",
   "metadata": {},
   "source": [
    "Here, we have created some simulated data using a test score of 75 as our population average and the effect of being in a small class being a 10 point increase in test scores. Although simulating data may seem weird at first, it  is often a great way to build intuition about new methods and their limitations. The above overlays the distributions of test scores for treated and untreated students.\n",
    "\n",
    "Now, we can take a sample from that population and begin to explore how OLS helps us to estimate the average treatment effect of placing students into smaller classrooms."
   ]
  },
  {
   "cell_type": "code",
   "execution_count": 3,
   "metadata": {},
   "outputs": [
    {
     "data": {
      "text/plain": [
       "Text(85.30139740691867, 49.4, '9.87')"
      ]
     },
     "execution_count": 3,
     "metadata": {},
     "output_type": "execute_result"
    },
    {
     "data": {
      "image/png": "[encoded data removed]",
      "text/plain": [
       "<Figure size 432x288 with 1 Axes>"
      ]
     },
     "metadata": {
      "needs_background": "light"
     },
     "output_type": "display_data"
    }
   ],
   "source": [
    "sample_size = 1000\n",
    "student_sample = np.random.choice(treatment_df.index, replace=False, size=1000)\n",
    "sample_df = treatment_df.loc[student_sample, :]\n",
    "\n",
    "\n",
    "treated = sample_df.loc[sample_df[\"treated\"] == 1, \"score\"]\n",
    "untreated = sample_df.loc[sample_df[\"treated\"] == 0, \"score\"]\n",
    "sample_diff = treated.mean() - untreated.mean()\n",
    "t_stat, p_val = ttest_ind(treated, untreated)\n",
    "\n",
    "# Plot distributions in the sample\n",
    "fig, ax = plt.subplots()\n",
    "sns.distplot(treated, kde=False, label=\"Treated\", ax=ax, color=\"y\")\n",
    "sns.distplot(untreated, kde=False, label=\"Non-Treated\", ax=ax, color=\"b\")\n",
    "ax.axvline(np.mean(treated), 0, 1, color=\"black\")\n",
    "ax.axvline(np.mean(untreated), 0, 1, color=\"black\")\n",
    "ax.set_xlim(50, 100)\n",
    "ax.set_title(\"Distribution of Test Scores: t = {} ({})\".format(round(t_stat, 3), round(p_val, 3)))\n",
    "ax.set_xlabel(\"Score\")\n",
    "ax.set_ylabel(\"Density\")\n",
    "ax.legend()\n",
    "ax.annotate('{}'.format(round(sample_diff, 2)),\n",
    "            xy=(np.mean(untreated),50), xytext=(np.mean(treated) + 0.4,49.4), \n",
    "            arrowprops=dict(arrowstyle='<->', color=\"black\"))"
   ]
  },
  {
   "cell_type": "markdown",
   "metadata": {},
   "source": [
    "The plot above shows the distributions of test scores split by treatment status. The t-stat and corresponding p value for comparing the test scores from the two groups is displayed. The displayed test uses the following set up:\n",
    "\n",
    "- $H_0$: The test scores for treated and non-treated individuals are the same\n",
    "- $H_A$: The test scores for treated and non-treated individuals are different"
   ]
  },
  {
   "cell_type": "code",
   "execution_count": 4,
   "metadata": {},
   "outputs": [
    {
     "data": {
      "text/html": [
       "<table class=\"simpletable\">\n",
       "<caption>OLS Regression Results</caption>\n",
       "<tr>\n",
       "  <th>Dep. Variable:</th>          <td>score</td>      <th>  R-squared:         </th> <td>   0.493</td> \n",
       "</tr>\n",
       "<tr>\n",
       "  <th>Model:</th>                   <td>OLS</td>       <th>  Adj. R-squared:    </th> <td>   0.493</td> \n",
       "</tr>\n",
       "<tr>\n",
       "  <th>Method:</th>             <td>Least Squares</td>  <th>  F-statistic:       </th> <td>   971.8</td> \n",
       "</tr>\n",
       "<tr>\n",
       "  <th>Date:</th>             <td>Sun, 09 Jun 2019</td> <th>  Prob (F-statistic):</th> <td>1.60e-149</td>\n",
       "</tr>\n",
       "<tr>\n",
       "  <th>Time:</th>                 <td>22:33:35</td>     <th>  Log-Likelihood:    </th> <td> -3028.6</td> \n",
       "</tr>\n",
       "<tr>\n",
       "  <th>No. Observations:</th>      <td>  1000</td>      <th>  AIC:               </th> <td>   6061.</td> \n",
       "</tr>\n",
       "<tr>\n",
       "  <th>Df Residuals:</th>          <td>   998</td>      <th>  BIC:               </th> <td>   6071.</td> \n",
       "</tr>\n",
       "<tr>\n",
       "  <th>Df Model:</th>              <td>     1</td>      <th>                     </th>     <td> </td>    \n",
       "</tr>\n",
       "<tr>\n",
       "  <th>Covariance Type:</th>      <td>nonrobust</td>    <th>                     </th>     <td> </td>    \n",
       "</tr>\n",
       "</table>\n",
       "<table class=\"simpletable\">\n",
       "<tr>\n",
       "      <td></td>         <th>coef</th>     <th>std err</th>      <th>t</th>      <th>P>|t|</th>  <th>[0.025</th>    <th>0.975]</th>  \n",
       "</tr>\n",
       "<tr>\n",
       "  <th>Intercept</th> <td>   75.0313</td> <td>    0.224</td> <td>  335.477</td> <td> 0.000</td> <td>   74.592</td> <td>   75.470</td>\n",
       "</tr>\n",
       "<tr>\n",
       "  <th>treated</th>   <td>    9.8701</td> <td>    0.317</td> <td>   31.174</td> <td> 0.000</td> <td>    9.249</td> <td>   10.491</td>\n",
       "</tr>\n",
       "</table>\n",
       "<table class=\"simpletable\">\n",
       "<tr>\n",
       "  <th>Omnibus:</th>       <td> 2.953</td> <th>  Durbin-Watson:     </th> <td>   2.050</td>\n",
       "</tr>\n",
       "<tr>\n",
       "  <th>Prob(Omnibus):</th> <td> 0.228</td> <th>  Jarque-Bera (JB):  </th> <td>   3.096</td>\n",
       "</tr>\n",
       "<tr>\n",
       "  <th>Skew:</th>          <td>-0.052</td> <th>  Prob(JB):          </th> <td>   0.213</td>\n",
       "</tr>\n",
       "<tr>\n",
       "  <th>Kurtosis:</th>      <td> 3.252</td> <th>  Cond. No.          </th> <td>    2.62</td>\n",
       "</tr>\n",
       "</table><br/><br/>Warnings:<br/>[1] Standard Errors assume that the covariance matrix of the errors is correctly specified."
      ],
      "text/plain": [
       "<class 'statsmodels.iolib.summary.Summary'>\n",
       "\"\"\"\n",
       "                            OLS Regression Results                            \n",
       "==============================================================================\n",
       "Dep. Variable:                  score   R-squared:                       0.493\n",
       "Model:                            OLS   Adj. R-squared:                  0.493\n",
       "Method:                 Least Squares   F-statistic:                     971.8\n",
       "Date:                Sun, 09 Jun 2019   Prob (F-statistic):          1.60e-149\n",
       "Time:                        22:33:35   Log-Likelihood:                -3028.6\n",
       "No. Observations:                1000   AIC:                             6061.\n",
       "Df Residuals:                     998   BIC:                             6071.\n",
       "Df Model:                           1                                         \n",
       "Covariance Type:            nonrobust                                         \n",
       "==============================================================================\n",
       "                 coef    std err          t      P>|t|      [0.025      0.975]\n",
       "------------------------------------------------------------------------------\n",
       "Intercept     75.0313      0.224    335.477      0.000      74.592      75.470\n",
       "treated        9.8701      0.317     31.174      0.000       9.249      10.491\n",
       "==============================================================================\n",
       "Omnibus:                        2.953   Durbin-Watson:                   2.050\n",
       "Prob(Omnibus):                  0.228   Jarque-Bera (JB):                3.096\n",
       "Skew:                          -0.052   Prob(JB):                        0.213\n",
       "Kurtosis:                       3.252   Cond. No.                         2.62\n",
       "==============================================================================\n",
       "\n",
       "Warnings:\n",
       "[1] Standard Errors assume that the covariance matrix of the errors is correctly specified.\n",
       "\"\"\""
      ]
     },
     "execution_count": 4,
     "metadata": {},
     "output_type": "execute_result"
    }
   ],
   "source": [
    "model = smf.ols(formula=\"score ~ 1 + treated\", data=sample_df)\n",
    "result = model.fit()\n",
    "result.summary()"
   ]
  },
  {
   "cell_type": "markdown",
   "metadata": {},
   "source": [
    "From the regression summary output, we can see that the coefficient on the treatment variable is identical to the difference in means between the two groups reporter earlier. We can also see that the z-score for the coeficient and its corresponding p-value are identical to the value of the test statistic and p value from our earlier test.\n",
    "\n",
    "So far, we have seen that for this data-generating process, the estimate of the treatment effect from OLS is identical to simply comparing the means between the treated and untreated groups. Now that we understand the mechanics of the baseline linear model, let's consider what happens when the data generating process is more complex."
   ]
  },
  {
   "cell_type": "code",
   "execution_count": 5,
   "metadata": {},
   "outputs": [
    {
     "data": {
      "text/plain": [
       "Text(0.5, 1.0, 'Distribution of Test Scores: t = 28.898 (0.0)')"
      ]
     },
     "execution_count": 5,
     "metadata": {},
     "output_type": "execute_result"
    },
    {
     "data": {
      "image/png": "[encoded data removed]",
      "text/plain": [
       "<Figure size 432x288 with 1 Axes>"
      ]
     },
     "metadata": {
      "needs_background": "light"
     },
     "output_type": "display_data"
    }
   ],
   "source": [
    "# Generate our population of student test scores\n",
    "treatment_df[\"no_support\"] = np.random.choice([0, 1], len(treatment_df))\n",
    "\n",
    "# New DGP\n",
    "treatment_effect = 10\n",
    "no_support_effect = 3\n",
    "treatment_df[\"score\"] = (75 + \n",
    "                         treatment_effect*treatment_df[\"treated\"] - \n",
    "                         no_support_effect*treatment_df[\"no_support\"] + \n",
    "                         np.random.normal(loc=0.0, scale=5.0, size=population_size))\n",
    "\n",
    "\n",
    "sample_size = 1000\n",
    "student_sample = np.random.choice(treatment_df.index, replace=False, size=1000)\n",
    "sample_df = treatment_df.loc[student_sample, :]\n",
    "\n",
    "treated = sample_df.loc[sample_df[\"treated\"] == 1, \"score\"]\n",
    "untreated = sample_df.loc[sample_df[\"treated\"] == 0, \"score\"]\n",
    "sample_diff = treated.mean() - untreated.mean()\n",
    "t_stat, p_val = ttest_ind(treated, untreated)\n",
    "\n",
    "fig, ax = plt.subplots()\n",
    "sns.boxplot(x=\"treated\", y=\"score\", hue=\"no_support\", data=treatment_df, ax=ax)\n",
    "ax.set_title(\"Distribution of Test Scores: t = {} ({})\".format(round(t_stat, 3), round(p_val, 3)))"
   ]
  },
  {
   "cell_type": "code",
   "execution_count": 6,
   "metadata": {},
   "outputs": [
    {
     "data": {
      "text/html": [
       "<table class=\"simpletable\">\n",
       "<caption>OLS Regression Results</caption>\n",
       "<tr>\n",
       "  <th>Dep. Variable:</th>          <td>score</td>      <th>  R-squared:         </th> <td>   0.456</td> \n",
       "</tr>\n",
       "<tr>\n",
       "  <th>Model:</th>                   <td>OLS</td>       <th>  Adj. R-squared:    </th> <td>   0.455</td> \n",
       "</tr>\n",
       "<tr>\n",
       "  <th>Method:</th>             <td>Least Squares</td>  <th>  F-statistic:       </th> <td>   835.1</td> \n",
       "</tr>\n",
       "<tr>\n",
       "  <th>Date:</th>             <td>Sun, 09 Jun 2019</td> <th>  Prob (F-statistic):</th> <td>6.45e-134</td>\n",
       "</tr>\n",
       "<tr>\n",
       "  <th>Time:</th>                 <td>22:33:39</td>     <th>  Log-Likelihood:    </th> <td> -3096.9</td> \n",
       "</tr>\n",
       "<tr>\n",
       "  <th>No. Observations:</th>      <td>  1000</td>      <th>  AIC:               </th> <td>   6198.</td> \n",
       "</tr>\n",
       "<tr>\n",
       "  <th>Df Residuals:</th>          <td>   998</td>      <th>  BIC:               </th> <td>   6208.</td> \n",
       "</tr>\n",
       "<tr>\n",
       "  <th>Df Model:</th>              <td>     1</td>      <th>                     </th>     <td> </td>    \n",
       "</tr>\n",
       "<tr>\n",
       "  <th>Covariance Type:</th>      <td>nonrobust</td>    <th>                     </th>     <td> </td>    \n",
       "</tr>\n",
       "</table>\n",
       "<table class=\"simpletable\">\n",
       "<tr>\n",
       "      <td></td>         <th>coef</th>     <th>std err</th>      <th>t</th>      <th>P>|t|</th>  <th>[0.025</th>    <th>0.975]</th>  \n",
       "</tr>\n",
       "<tr>\n",
       "  <th>Intercept</th> <td>   73.6223</td> <td>    0.237</td> <td>  310.503</td> <td> 0.000</td> <td>   73.157</td> <td>   74.088</td>\n",
       "</tr>\n",
       "<tr>\n",
       "  <th>treated</th>   <td>    9.7984</td> <td>    0.339</td> <td>   28.898</td> <td> 0.000</td> <td>    9.133</td> <td>   10.464</td>\n",
       "</tr>\n",
       "</table>\n",
       "<table class=\"simpletable\">\n",
       "<tr>\n",
       "  <th>Omnibus:</th>       <td> 5.695</td> <th>  Durbin-Watson:     </th> <td>   1.986</td>\n",
       "</tr>\n",
       "<tr>\n",
       "  <th>Prob(Omnibus):</th> <td> 0.058</td> <th>  Jarque-Bera (JB):  </th> <td>   5.681</td>\n",
       "</tr>\n",
       "<tr>\n",
       "  <th>Skew:</th>          <td> 0.185</td> <th>  Prob(JB):          </th> <td>  0.0584</td>\n",
       "</tr>\n",
       "<tr>\n",
       "  <th>Kurtosis:</th>      <td> 3.008</td> <th>  Cond. No.          </th> <td>    2.59</td>\n",
       "</tr>\n",
       "</table><br/><br/>Warnings:<br/>[1] Standard Errors assume that the covariance matrix of the errors is correctly specified."
      ],
      "text/plain": [
       "<class 'statsmodels.iolib.summary.Summary'>\n",
       "\"\"\"\n",
       "                            OLS Regression Results                            \n",
       "==============================================================================\n",
       "Dep. Variable:                  score   R-squared:                       0.456\n",
       "Model:                            OLS   Adj. R-squared:                  0.455\n",
       "Method:                 Least Squares   F-statistic:                     835.1\n",
       "Date:                Sun, 09 Jun 2019   Prob (F-statistic):          6.45e-134\n",
       "Time:                        22:33:39   Log-Likelihood:                -3096.9\n",
       "No. Observations:                1000   AIC:                             6198.\n",
       "Df Residuals:                     998   BIC:                             6208.\n",
       "Df Model:                           1                                         \n",
       "Covariance Type:            nonrobust                                         \n",
       "==============================================================================\n",
       "                 coef    std err          t      P>|t|      [0.025      0.975]\n",
       "------------------------------------------------------------------------------\n",
       "Intercept     73.6223      0.237    310.503      0.000      73.157      74.088\n",
       "treated        9.7984      0.339     28.898      0.000       9.133      10.464\n",
       "==============================================================================\n",
       "Omnibus:                        5.695   Durbin-Watson:                   1.986\n",
       "Prob(Omnibus):                  0.058   Jarque-Bera (JB):                5.681\n",
       "Skew:                           0.185   Prob(JB):                       0.0584\n",
       "Kurtosis:                       3.008   Cond. No.                         2.59\n",
       "==============================================================================\n",
       "\n",
       "Warnings:\n",
       "[1] Standard Errors assume that the covariance matrix of the errors is correctly specified.\n",
       "\"\"\""
      ]
     },
     "execution_count": 6,
     "metadata": {},
     "output_type": "execute_result"
    }
   ],
   "source": [
    "model = smf.ols(formula=\"score ~ 1 + treated \", data=sample_df)\n",
    "result = model.fit()\n",
    "result.summary()"
   ]
  },
  {
   "cell_type": "markdown",
   "metadata": {},
   "source": [
    "Like before, fitting the treatment-only model yields an estimated ATE that is identical to running a t-test comparing the means of the treatment and control groups. However, we know that this model is wrong since we generated the data, so let's see what happens when we include familiy support as a regressor."
   ]
  },
  {
   "cell_type": "code",
   "execution_count": 7,
   "metadata": {},
   "outputs": [
    {
     "data": {
      "text/html": [
       "<table class=\"simpletable\">\n",
       "<caption>OLS Regression Results</caption>\n",
       "<tr>\n",
       "  <th>Dep. Variable:</th>          <td>score</td>      <th>  R-squared:         </th> <td>   0.505</td> \n",
       "</tr>\n",
       "<tr>\n",
       "  <th>Model:</th>                   <td>OLS</td>       <th>  Adj. R-squared:    </th> <td>   0.504</td> \n",
       "</tr>\n",
       "<tr>\n",
       "  <th>Method:</th>             <td>Least Squares</td>  <th>  F-statistic:       </th> <td>   508.3</td> \n",
       "</tr>\n",
       "<tr>\n",
       "  <th>Date:</th>             <td>Sun, 09 Jun 2019</td> <th>  Prob (F-statistic):</th> <td>6.48e-153</td>\n",
       "</tr>\n",
       "<tr>\n",
       "  <th>Time:</th>                 <td>22:33:47</td>     <th>  Log-Likelihood:    </th> <td> -3049.4</td> \n",
       "</tr>\n",
       "<tr>\n",
       "  <th>No. Observations:</th>      <td>  1000</td>      <th>  AIC:               </th> <td>   6105.</td> \n",
       "</tr>\n",
       "<tr>\n",
       "  <th>Df Residuals:</th>          <td>   997</td>      <th>  BIC:               </th> <td>   6120.</td> \n",
       "</tr>\n",
       "<tr>\n",
       "  <th>Df Model:</th>              <td>     2</td>      <th>                     </th>     <td> </td>    \n",
       "</tr>\n",
       "<tr>\n",
       "  <th>Covariance Type:</th>      <td>nonrobust</td>    <th>                     </th>     <td> </td>    \n",
       "</tr>\n",
       "</table>\n",
       "<table class=\"simpletable\">\n",
       "<tr>\n",
       "       <td></td>         <th>coef</th>     <th>std err</th>      <th>t</th>      <th>P>|t|</th>  <th>[0.025</th>    <th>0.975]</th>  \n",
       "</tr>\n",
       "<tr>\n",
       "  <th>Intercept</th>  <td>   75.1499</td> <td>    0.273</td> <td>  275.008</td> <td> 0.000</td> <td>   74.614</td> <td>   75.686</td>\n",
       "</tr>\n",
       "<tr>\n",
       "  <th>treated</th>    <td>    9.8738</td> <td>    0.324</td> <td>   30.512</td> <td> 0.000</td> <td>    9.239</td> <td>   10.509</td>\n",
       "</tr>\n",
       "<tr>\n",
       "  <th>no_support</th> <td>   -3.2255</td> <td>    0.324</td> <td>   -9.966</td> <td> 0.000</td> <td>   -3.861</td> <td>   -2.590</td>\n",
       "</tr>\n",
       "</table>\n",
       "<table class=\"simpletable\">\n",
       "<tr>\n",
       "  <th>Omnibus:</th>       <td> 5.497</td> <th>  Durbin-Watson:     </th> <td>   1.969</td>\n",
       "</tr>\n",
       "<tr>\n",
       "  <th>Prob(Omnibus):</th> <td> 0.064</td> <th>  Jarque-Bera (JB):  </th> <td>   5.551</td>\n",
       "</tr>\n",
       "<tr>\n",
       "  <th>Skew:</th>          <td> 0.181</td> <th>  Prob(JB):          </th> <td>  0.0623</td>\n",
       "</tr>\n",
       "<tr>\n",
       "  <th>Kurtosis:</th>      <td> 2.957</td> <th>  Cond. No.          </th> <td>    3.10</td>\n",
       "</tr>\n",
       "</table><br/><br/>Warnings:<br/>[1] Standard Errors assume that the covariance matrix of the errors is correctly specified."
      ],
      "text/plain": [
       "<class 'statsmodels.iolib.summary.Summary'>\n",
       "\"\"\"\n",
       "                            OLS Regression Results                            \n",
       "==============================================================================\n",
       "Dep. Variable:                  score   R-squared:                       0.505\n",
       "Model:                            OLS   Adj. R-squared:                  0.504\n",
       "Method:                 Least Squares   F-statistic:                     508.3\n",
       "Date:                Sun, 09 Jun 2019   Prob (F-statistic):          6.48e-153\n",
       "Time:                        22:33:47   Log-Likelihood:                -3049.4\n",
       "No. Observations:                1000   AIC:                             6105.\n",
       "Df Residuals:                     997   BIC:                             6120.\n",
       "Df Model:                           2                                         \n",
       "Covariance Type:            nonrobust                                         \n",
       "==============================================================================\n",
       "                 coef    std err          t      P>|t|      [0.025      0.975]\n",
       "------------------------------------------------------------------------------\n",
       "Intercept     75.1499      0.273    275.008      0.000      74.614      75.686\n",
       "treated        9.8738      0.324     30.512      0.000       9.239      10.509\n",
       "no_support    -3.2255      0.324     -9.966      0.000      -3.861      -2.590\n",
       "==============================================================================\n",
       "Omnibus:                        5.497   Durbin-Watson:                   1.969\n",
       "Prob(Omnibus):                  0.064   Jarque-Bera (JB):                5.551\n",
       "Skew:                           0.181   Prob(JB):                       0.0623\n",
       "Kurtosis:                       2.957   Cond. No.                         3.10\n",
       "==============================================================================\n",
       "\n",
       "Warnings:\n",
       "[1] Standard Errors assume that the covariance matrix of the errors is correctly specified.\n",
       "\"\"\""
      ]
     },
     "execution_count": 7,
     "metadata": {},
     "output_type": "execute_result"
    }
   ],
   "source": [
    "model = smf.ols(formula=\"score ~ 1 + treated + no_support\", data=sample_df)\n",
    "result = model.fit()\n",
    "result.summary()"
   ]
  },
  {
   "cell_type": "code",
   "execution_count": 8,
   "metadata": {},
   "outputs": [
    {
     "data": {
      "text/plain": [
       "Text(0, 0.5, 'Estimate Treatment Effect')"
      ]
     },
     "execution_count": 8,
     "metadata": {},
     "output_type": "execute_result"
    },
    {
     "data": {
      "image/png": "[encoded data removed]",
      "text/plain": [
       "<Figure size 432x288 with 1 Axes>"
      ]
     },
     "metadata": {
      "needs_background": "light"
     },
     "output_type": "display_data"
    }
   ],
   "source": [
    "repeated_samples = 100\n",
    "treatment_effects = []\n",
    "sample_sizes = np.arange(500, 5000, 500)\n",
    "x = []\n",
    "y = []\n",
    "for sample_size in sample_sizes:\n",
    "    for i in range(repeated_samples):\n",
    "        student_sample = np.random.choice(treatment_df.index, replace=False, size=sample_size)\n",
    "        sample_df = treatment_df.loc[student_sample, :]\n",
    "        res = smf.ols(formula=\"score ~ 1 + treated + no_support\", data=sample_df).fit()\n",
    "        x.append(sample_size)\n",
    "        y.append(res.params[\"treated\"])\n",
    "        \n",
    "\n",
    "sample_data = pd.DataFrame(zip(x, y), columns=[\"sample_size\", \"est_ate\"])\n",
    "mean_data = sample_data.groupby(by=\"sample_size\").mean().reset_index()\n",
    "\n",
    "fig, ax = plt.subplots()\n",
    "sns.scatterplot(x=\"sample_size\", y=\"est_ate\", data=sample_data)\n",
    "ax.set_title(\"Sample Size and Estimator Consistency\")\n",
    "ax.set_xlabel(\"Sample Size\")\n",
    "ax.set_ylabel(\"Estimate Treatment Effect\")"
   ]
  },
  {
   "cell_type": "markdown",
   "metadata": {},
   "source": [
    "By the central limit theorem, we know that this distribution is approximately normal for large samples. We have calcualted an emprical sampling distribution by taking 500 independent samples of 1000 students each from our population of interest."
   ]
  },
  {
   "cell_type": "code",
   "execution_count": 9,
   "metadata": {},
   "outputs": [
    {
     "data": {
      "text/plain": [
       "Text(0.5, 1.0, 'Distribution of ATE for Support vs. No-Support Models')"
      ]
     },
     "execution_count": 9,
     "metadata": {},
     "output_type": "execute_result"
    },
    {
     "data": {
      "image/png": "[encoded data removed]",
      "text/plain": [
       "<Figure size 432x288 with 1 Axes>"
      ]
     },
     "metadata": {
      "needs_background": "light"
     },
     "output_type": "display_data"
    }
   ],
   "source": [
    "repeated_samples = 100 \n",
    "sample_size = 1000\n",
    "no_support_results = []\n",
    "support_results = []\n",
    "for i in range(repeated_samples):\n",
    "    student_sample = np.random.choice(treatment_df.index, replace=False, size=sample_size)\n",
    "    sample_df = treatment_df.loc[student_sample, :]\n",
    "    res = smf.ols(formula=\"score ~ 1 + treated\", data=sample_df).fit()\n",
    "    no_support_results.append(res.params[\"treated\"])\n",
    "    res = smf.ols(formula=\"score ~ 1 + treated + no_support\", data=sample_df).fit()\n",
    "    support_results.append(res.params[\"treated\"])\n",
    "\n",
    "fix, ax = plt.subplots()\n",
    "sns.distplot(no_support_results, color=\"y\", ax=ax, label=\"Exclude Support\")\n",
    "sns.distplot(support_results, color=\"b\", ax=ax, label=\"Include Support\")\n",
    "ax.set_xlabel(\"Estimated ATE\")\n",
    "ax.set_ylabel(\"Density\")\n",
    "ax.legend()\n",
    "ax.set_title(\"Distribution of ATE for Support vs. No-Support Models\")"
   ]
  },
  {
   "cell_type": "markdown",
   "metadata": {},
   "source": [
    "Although the data are generated using a different process than what we specified in the model, we still get an unbiased estimate of the ATE. This is because the excluded variable (family support) is not correlated with treatment. Therefore, we are not in violation of any OLS assumptions that would result in a biased estimate. Hower, including familiy support in the model does allow us to explain more variation in the data, which in turn, results in a more precise estimate of the treatment effect (smaller standard error)."
   ]
  },
  {
   "cell_type": "markdown",
   "metadata": {},
   "source": [
    "## Omitted Variable Bias\n",
    "\n",
    "We now consider the case where a variable is omitted from our model that plays a role in determining test scores and is also correlated with treatment. When such a variable exists and is omitted from our causal model, the estimated treatement effect will be biased. This is cleaverly entitled **omitted variable bias**. Including the variable in our model (if possible) is a way to eliminate this bias. More generally, multiple regression can be seen as a way to circumvent omitted variable bias if we include any and all variables that we believe (from subject matter or theoretical grounds) are important determinants of the outcome we care about."
   ]
  },
  {
   "cell_type": "code",
   "execution_count": 18,
   "metadata": {},
   "outputs": [],
   "source": [
    "from scipy.linalg import cholesky\n",
    "from sklearn.preprocessing import minmax_scale, scale\n",
    "\n",
    "\n",
    "# Generate some correlated random data in [0, 1]\n",
    "corr_mat = np.array([\n",
    "    [1.0, 0.8],\n",
    "    [0.8, 1.0]\n",
    "])\n",
    "\n",
    "upper_cholesky = cholesky(corr_mat)\n",
    "random_data = np.random.normal(0, 1, size=(population_size, 2))\n",
    "transformed_data = random_data @ upper_cholesky\n",
    "\n",
    "# Create a no_support dummy using 0.5 threshold\n",
    "no_support = minmax_scale(transformed_data [:, 0], feature_range=(0,1))\n",
    "no_support = [1 if s < 0.5 else 0 for s in no_support]\n",
    "\n",
    "# Normalize income to be between 0 and 100K\n",
    "normalized_income = transformed_data[:, 1]\n",
    "income = 100000*((normalized_income - normalized_income.min()) / (normalized_income.max() - normalized_income.min()))\n"
   ]
  },
  {
   "cell_type": "code",
   "execution_count": 23,
   "metadata": {},
   "outputs": [
    {
     "data": {
      "text/plain": [
       "<matplotlib.axes._subplots.AxesSubplot at 0x1213fdb70>"
      ]
     },
     "execution_count": 23,
     "metadata": {},
     "output_type": "execute_result"
    },
    {
     "data": {
      "image/png": "[encoded data removed]",
      "text/plain": [
       "<Figure size 432x288 with 1 Axes>"
      ]
     },
     "metadata": {
      "needs_background": "light"
     },
     "output_type": "display_data"
    }
   ],
   "source": [
    "treatment_df[\"income\"] = income\n",
    "treatment_df[\"no_support\"] = no_support\n",
    "\n",
    "\n",
    "treatment_effect = 10\n",
    "no_support_effect = 3\n",
    "income_effect = .0001\n",
    "treatment_df[\"score\"] = (75 + \n",
    "                         treatment_effect*treatment_df[\"treated\"] - \n",
    "                         no_support_effect*treatment_df[\"no_support\"] + \n",
    "                         income_effect*treatment_df[\"income\"] +\n",
    "                         np.random.normal(loc=0.0, scale=1.0, size=population_size))\n",
    "\n",
    "\n",
    "sample_size = 1000\n",
    "student_sample = np.random.choice(treatment_df.index, replace=False, size=sample_size)\n",
    "sample_df = treatment_df.loc[student_sample, :]\n",
    "\n",
    "treated = sample_df.loc[sample_df[\"treated\"] == 1, \"score\"]\n",
    "untreated = sample_df.loc[sample_df[\"treated\"] == 0, \"score\"]\n",
    "sample_diff = treated.mean() - untreated.mean()\n",
    "t_stat, p_val = ttest_ind(treated, untreated)\n",
    "t_stat, p_val\n",
    "\n",
    "\n",
    "sns.distplot(treatment_df[\"score\"])"
   ]
  },
  {
   "cell_type": "code",
   "execution_count": 26,
   "metadata": {},
   "outputs": [
    {
     "data": {
      "text/html": [
       "<table class=\"simpletable\">\n",
       "<caption>OLS Regression Results</caption>\n",
       "<tr>\n",
       "  <th>Dep. Variable:</th>          <td>score</td>      <th>  R-squared:         </th> <td>   0.937</td> \n",
       "</tr>\n",
       "<tr>\n",
       "  <th>Model:</th>                   <td>OLS</td>       <th>  Adj. R-squared:    </th> <td>   0.937</td> \n",
       "</tr>\n",
       "<tr>\n",
       "  <th>Method:</th>             <td>Least Squares</td>  <th>  F-statistic:       </th> <td>3.737e+04</td>\n",
       "</tr>\n",
       "<tr>\n",
       "  <th>Date:</th>             <td>Sun, 09 Jun 2019</td> <th>  Prob (F-statistic):</th>  <td>  0.00</td>  \n",
       "</tr>\n",
       "<tr>\n",
       "  <th>Time:</th>                 <td>23:06:59</td>     <th>  Log-Likelihood:    </th> <td> -8890.4</td> \n",
       "</tr>\n",
       "<tr>\n",
       "  <th>No. Observations:</th>      <td>  5000</td>      <th>  AIC:               </th> <td>1.779e+04</td>\n",
       "</tr>\n",
       "<tr>\n",
       "  <th>Df Residuals:</th>          <td>  4997</td>      <th>  BIC:               </th> <td>1.781e+04</td>\n",
       "</tr>\n",
       "<tr>\n",
       "  <th>Df Model:</th>              <td>     2</td>      <th>                     </th>     <td> </td>    \n",
       "</tr>\n",
       "<tr>\n",
       "  <th>Covariance Type:</th>      <td>nonrobust</td>    <th>                     </th>     <td> </td>    \n",
       "</tr>\n",
       "</table>\n",
       "<table class=\"simpletable\">\n",
       "<tr>\n",
       "       <td></td>         <th>coef</th>     <th>std err</th>      <th>t</th>      <th>P>|t|</th>  <th>[0.025</th>    <th>0.975]</th>  \n",
       "</tr>\n",
       "<tr>\n",
       "  <th>Intercept</th>  <td>   80.9056</td> <td>    0.034</td> <td> 2399.652</td> <td> 0.000</td> <td>   80.839</td> <td>   80.972</td>\n",
       "</tr>\n",
       "<tr>\n",
       "  <th>treatment</th>  <td>    9.9441</td> <td>    0.041</td> <td>  245.326</td> <td> 0.000</td> <td>    9.865</td> <td>   10.024</td>\n",
       "</tr>\n",
       "<tr>\n",
       "  <th>no_support</th> <td>   -4.6774</td> <td>    0.041</td> <td> -114.128</td> <td> 0.000</td> <td>   -4.758</td> <td>   -4.597</td>\n",
       "</tr>\n",
       "</table>\n",
       "<table class=\"simpletable\">\n",
       "<tr>\n",
       "  <th>Omnibus:</th>       <td> 1.965</td> <th>  Durbin-Watson:     </th> <td>   2.011</td>\n",
       "</tr>\n",
       "<tr>\n",
       "  <th>Prob(Omnibus):</th> <td> 0.374</td> <th>  Jarque-Bera (JB):  </th> <td>   1.965</td>\n",
       "</tr>\n",
       "<tr>\n",
       "  <th>Skew:</th>          <td>-0.019</td> <th>  Prob(JB):          </th> <td>   0.374</td>\n",
       "</tr>\n",
       "<tr>\n",
       "  <th>Kurtosis:</th>      <td> 3.089</td> <th>  Cond. No.          </th> <td>    3.07</td>\n",
       "</tr>\n",
       "</table><br/><br/>Warnings:<br/>[1] Standard Errors assume that the covariance matrix of the errors is correctly specified."
      ],
      "text/plain": [
       "<class 'statsmodels.iolib.summary.Summary'>\n",
       "\"\"\"\n",
       "                            OLS Regression Results                            \n",
       "==============================================================================\n",
       "Dep. Variable:                  score   R-squared:                       0.937\n",
       "Model:                            OLS   Adj. R-squared:                  0.937\n",
       "Method:                 Least Squares   F-statistic:                 3.737e+04\n",
       "Date:                Sun, 09 Jun 2019   Prob (F-statistic):               0.00\n",
       "Time:                        23:06:59   Log-Likelihood:                -8890.4\n",
       "No. Observations:                5000   AIC:                         1.779e+04\n",
       "Df Residuals:                    4997   BIC:                         1.781e+04\n",
       "Df Model:                           2                                         \n",
       "Covariance Type:            nonrobust                                         \n",
       "==============================================================================\n",
       "                 coef    std err          t      P>|t|      [0.025      0.975]\n",
       "------------------------------------------------------------------------------\n",
       "Intercept     80.9056      0.034   2399.652      0.000      80.839      80.972\n",
       "treatment      9.9441      0.041    245.326      0.000       9.865      10.024\n",
       "no_support    -4.6774      0.041   -114.128      0.000      -4.758      -4.597\n",
       "==============================================================================\n",
       "Omnibus:                        1.965   Durbin-Watson:                   2.011\n",
       "Prob(Omnibus):                  0.374   Jarque-Bera (JB):                1.965\n",
       "Skew:                          -0.019   Prob(JB):                        0.374\n",
       "Kurtosis:                       3.089   Cond. No.                         3.07\n",
       "==============================================================================\n",
       "\n",
       "Warnings:\n",
       "[1] Standard Errors assume that the covariance matrix of the errors is correctly specified.\n",
       "\"\"\""
      ]
     },
     "execution_count": 26,
     "metadata": {},
     "output_type": "execute_result"
    }
   ],
   "source": [
    "model = smf.ols(formula=\"score ~ 1 + treatment + no_support\", data=treatment_df)\n",
    "result = model.fit()\n",
    "result.summary()"
   ]
  },
  {
   "cell_type": "code",
   "execution_count": 27,
   "metadata": {},
   "outputs": [
    {
     "data": {
      "text/html": [
       "<table class=\"simpletable\">\n",
       "<caption>OLS Regression Results</caption>\n",
       "<tr>\n",
       "  <th>Dep. Variable:</th>          <td>score</td>      <th>  R-squared:         </th> <td>   0.969</td> \n",
       "</tr>\n",
       "<tr>\n",
       "  <th>Model:</th>                   <td>OLS</td>       <th>  Adj. R-squared:    </th> <td>   0.969</td> \n",
       "</tr>\n",
       "<tr>\n",
       "  <th>Method:</th>             <td>Least Squares</td>  <th>  F-statistic:       </th> <td>5.234e+04</td>\n",
       "</tr>\n",
       "<tr>\n",
       "  <th>Date:</th>             <td>Sun, 09 Jun 2019</td> <th>  Prob (F-statistic):</th>  <td>  0.00</td>  \n",
       "</tr>\n",
       "<tr>\n",
       "  <th>Time:</th>                 <td>23:07:09</td>     <th>  Log-Likelihood:    </th> <td> -7117.5</td> \n",
       "</tr>\n",
       "<tr>\n",
       "  <th>No. Observations:</th>      <td>  5000</td>      <th>  AIC:               </th> <td>1.424e+04</td>\n",
       "</tr>\n",
       "<tr>\n",
       "  <th>Df Residuals:</th>          <td>  4996</td>      <th>  BIC:               </th> <td>1.427e+04</td>\n",
       "</tr>\n",
       "<tr>\n",
       "  <th>Df Model:</th>              <td>     3</td>      <th>                     </th>     <td> </td>    \n",
       "</tr>\n",
       "<tr>\n",
       "  <th>Covariance Type:</th>      <td>nonrobust</td>    <th>                     </th>     <td> </td>    \n",
       "</tr>\n",
       "</table>\n",
       "<table class=\"simpletable\">\n",
       "<tr>\n",
       "       <td></td>         <th>coef</th>     <th>std err</th>      <th>t</th>      <th>P>|t|</th>  <th>[0.025</th>    <th>0.975]</th>  \n",
       "</tr>\n",
       "<tr>\n",
       "  <th>Intercept</th>  <td>   74.8756</td> <td>    0.087</td> <td>  858.324</td> <td> 0.000</td> <td>   74.705</td> <td>   75.047</td>\n",
       "</tr>\n",
       "<tr>\n",
       "  <th>treatment</th>  <td>    9.9501</td> <td>    0.028</td> <td>  349.905</td> <td> 0.000</td> <td>    9.894</td> <td>   10.006</td>\n",
       "</tr>\n",
       "<tr>\n",
       "  <th>no_support</th> <td>   -2.9814</td> <td>    0.037</td> <td>  -80.129</td> <td> 0.000</td> <td>   -3.054</td> <td>   -2.908</td>\n",
       "</tr>\n",
       "<tr>\n",
       "  <th>income</th>     <td>    0.0001</td> <td> 1.43e-06</td> <td>   71.813</td> <td> 0.000</td> <td> 9.97e-05</td> <td>    0.000</td>\n",
       "</tr>\n",
       "</table>\n",
       "<table class=\"simpletable\">\n",
       "<tr>\n",
       "  <th>Omnibus:</th>       <td> 1.942</td> <th>  Durbin-Watson:     </th> <td>   2.014</td>\n",
       "</tr>\n",
       "<tr>\n",
       "  <th>Prob(Omnibus):</th> <td> 0.379</td> <th>  Jarque-Bera (JB):  </th> <td>   1.955</td>\n",
       "</tr>\n",
       "<tr>\n",
       "  <th>Skew:</th>          <td>-0.030</td> <th>  Prob(JB):          </th> <td>   0.376</td>\n",
       "</tr>\n",
       "<tr>\n",
       "  <th>Kurtosis:</th>      <td> 2.925</td> <th>  Cond. No.          </th> <td>3.44e+05</td>\n",
       "</tr>\n",
       "</table><br/><br/>Warnings:<br/>[1] Standard Errors assume that the covariance matrix of the errors is correctly specified.<br/>[2] The condition number is large, 3.44e+05. This might indicate that there are<br/>strong multicollinearity or other numerical problems."
      ],
      "text/plain": [
       "<class 'statsmodels.iolib.summary.Summary'>\n",
       "\"\"\"\n",
       "                            OLS Regression Results                            \n",
       "==============================================================================\n",
       "Dep. Variable:                  score   R-squared:                       0.969\n",
       "Model:                            OLS   Adj. R-squared:                  0.969\n",
       "Method:                 Least Squares   F-statistic:                 5.234e+04\n",
       "Date:                Sun, 09 Jun 2019   Prob (F-statistic):               0.00\n",
       "Time:                        23:07:09   Log-Likelihood:                -7117.5\n",
       "No. Observations:                5000   AIC:                         1.424e+04\n",
       "Df Residuals:                    4996   BIC:                         1.427e+04\n",
       "Df Model:                           3                                         \n",
       "Covariance Type:            nonrobust                                         \n",
       "==============================================================================\n",
       "                 coef    std err          t      P>|t|      [0.025      0.975]\n",
       "------------------------------------------------------------------------------\n",
       "Intercept     74.8756      0.087    858.324      0.000      74.705      75.047\n",
       "treatment      9.9501      0.028    349.905      0.000       9.894      10.006\n",
       "no_support    -2.9814      0.037    -80.129      0.000      -3.054      -2.908\n",
       "income         0.0001   1.43e-06     71.813      0.000    9.97e-05       0.000\n",
       "==============================================================================\n",
       "Omnibus:                        1.942   Durbin-Watson:                   2.014\n",
       "Prob(Omnibus):                  0.379   Jarque-Bera (JB):                1.955\n",
       "Skew:                          -0.030   Prob(JB):                        0.376\n",
       "Kurtosis:                       2.925   Cond. No.                     3.44e+05\n",
       "==============================================================================\n",
       "\n",
       "Warnings:\n",
       "[1] Standard Errors assume that the covariance matrix of the errors is correctly specified.\n",
       "[2] The condition number is large, 3.44e+05. This might indicate that there are\n",
       "strong multicollinearity or other numerical problems.\n",
       "\"\"\""
      ]
     },
     "execution_count": 27,
     "metadata": {},
     "output_type": "execute_result"
    }
   ],
   "source": [
    "model = smf.ols(formula=\"score ~ 1 + treatment + no_support + income\", data=treatment_df)\n",
    "result = model.fit()\n",
    "result.summary()"
   ]
  },
  {
   "cell_type": "markdown",
   "metadata": {},
   "source": [
    "Comparing the two models above, we can see that the estimated treatment effect is comparable. However, the specification that excludes income results is a much larger (in absolute terms) coefficient on the effect of no family support than the specification that includes income as a predictor. This is due to the fact that family support and income are highly correlated: higher family income increases the probability of family support. Therefore, by excluding income from our model, the effect of income on test scores is (at least partially) incorrectly attributed to not having family support.\n",
    "\n",
    "This example consider an omitted variable that was correlated with an explanatory variable that was not the treatment variable. The same logic anc consequences result if the omitted variable is correlated with treatment. In the section section, we will consider a technique for handling the general problem of having one or more regresors that are correlated with the error term."
   ]
  },
  {
   "cell_type": "code",
   "execution_count": 31,
   "metadata": {},
   "outputs": [
    {
     "data": {
      "text/plain": [
       "Text(0.5, 1.0, 'Distribution of ATE for Income vs. No-Income Models')"
      ]
     },
     "execution_count": 31,
     "metadata": {},
     "output_type": "execute_result"
    },
    {
     "data": {
      "image/png": "[encoded data removed]",
      "text/plain": [
       "<Figure size 432x288 with 1 Axes>"
      ]
     },
     "metadata": {
      "needs_background": "light"
     },
     "output_type": "display_data"
    }
   ],
   "source": [
    "repeated_samples = 100 \n",
    "sample_size = 1000\n",
    "no_income_results = []\n",
    "income_results = []\n",
    "for i in range(repeated_samples):\n",
    "    student_sample = np.random.choice(treatment_df.index, replace=False, size=sample_size)\n",
    "    sample_df = treatment_df.loc[student_sample, :]\n",
    "    res = smf.ols(formula=\"score ~ 1 + treated + no_support\", data=sample_df).fit()\n",
    "    no_income_results.append(res.params[\"no_support\"])\n",
    "    res = smf.ols(formula=\"score ~ 1 + treated + no_support + income\", data=sample_df).fit()\n",
    "    income_results.append(res.params[\"no_support\"])\n",
    "\n",
    "fix, ax = plt.subplots()\n",
    "sns.distplot(no_support_results, color=\"y\", ax=ax, label=\"Exclude Support\")\n",
    "sns.distplot(support_results, color=\"b\", ax=ax, label=\"Include Support\")\n",
    "ax.set_xlabel(\"Estimated ATE\")\n",
    "ax.set_ylabel(\"Density\")\n",
    "ax.legend()\n",
    "ax.set_title(\"Distribution of ATE for Income vs. No-Income Models\")"
   ]
  },
  {
   "cell_type": "code",
   "execution_count": 47,
   "metadata": {},
   "outputs": [],
   "source": [
    "repeated_samples = 100 \n",
    "sample_size = 1000\n",
    "no_income_results = []\n",
    "x = []\n",
    "y = []\n",
    "sample_sizes = np.arange(500, 5000, 500)\n",
    "\n",
    "for sample_size in sample_sizes:\n",
    "    for i in range(repeated_samples):\n",
    "        student_sample = np.random.choice(treatment_df.index, replace=False, size=sample_size)\n",
    "        sample_df = treatment_df.loc[student_sample, :]\n",
    "        \n",
    "        res_no_income = smf.ols(formula=\"score ~ 1 + treated + no_support\", data=sample_df).fit()\n",
    "        res_income = smf.ols(formula=\"score ~ 1 + treated + no_support + income\", data=sample_df).fit()\n",
    "        x.append(sample_size)\n",
    "        y.append((res_no_income.params[\"no_support\"] - res_income.params[\"no_support\"]))"
   ]
  },
  {
   "cell_type": "code",
   "execution_count": 48,
   "metadata": {},
   "outputs": [
    {
     "data": {
      "text/plain": [
       "<matplotlib.axes._subplots.AxesSubplot at 0x11ebdf240>"
      ]
     },
     "execution_count": 48,
     "metadata": {},
     "output_type": "execute_result"
    },
    {
     "data": {
      "image/png": "[encoded data removed]",
      "text/plain": [
       "<Figure size 432x288 with 1 Axes>"
      ]
     },
     "metadata": {
      "needs_background": "light"
     },
     "output_type": "display_data"
    }
   ],
   "source": [
    "df = pd.DataFrame()\n",
    "df[\"sample_size\"] = x\n",
    "df[\"diff_in_est_effect\"] = y\n",
    "\n",
    "fig, ax = plt.subplots()\n",
    "sns.boxplot(x=\"sample_size\", y=\"diff_in_est_effect\",  data=df, ax=ax)"
   ]
  },
  {
   "cell_type": "markdown",
   "metadata": {},
   "source": [
    "The boxplot above shows the difference in the estimated coefficient of no family support for a model that includes family income and a model that does not include family income. If there were no omitted variable bias, this difference should concetrate around zero and become tighter as the sample size gets larger. Clearly, the estimated coefficient is biased downward by not including income as a regeressor. The important point to this plot is that bias is independent of sample size. No amount of additional data will correct for an incorrect model."
   ]
  }
 ],
 "metadata": {
  "kernelspec": {
   "display_name": "Python 3",
   "language": "python",
   "name": "python3"
  },
  "language_info": {
   "codemirror_mode": {
    "name": "ipython",
    "version": 3
   },
   "file_extension": ".py",
   "mimetype": "text/x-python",
   "name": "python",
   "nbconvert_exporter": "python",
   "pygments_lexer": "ipython3",
   "version": "3.7.1"
  }
 },
 "nbformat": 4,
 "nbformat_minor": 2
}

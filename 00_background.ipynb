{
 "cells": [
  {
   "cell_type": "markdown",
   "metadata": {},
   "source": [
    "# Econometrics for the Biological Sciences"
   ]
  },
  {
   "cell_type": "markdown",
   "metadata": {},
   "source": [
    "## Fundamental Concepts\n",
    "\n",
    "- Level I, II, and III analysis\n",
    "- Regression\n",
    "  - Study of conditional distributions\n",
    "- Models vs. Algorithms\n",
    "- Estimation vs. Inference\n",
    "- Econometrics vs. Statistical Learning vs. ML\n",
    "\n",
    "- Experimental vs. Quasi-Experimental vs. Observational\n",
    "- Counterfactual\n",
    "- Average Treatment Effect\n",
    "- Average Treatment on the Treated\n",
    "- Bias"
   ]
  },
  {
   "cell_type": "markdown",
   "metadata": {},
   "source": [
    "### Objectives\n",
    "\n",
    "- Identification\n",
    "- Unbiased estimate of the treatment effect\n",
    "- Valid standard errors for the treatment effect\n",
    "- Explanation"
   ]
  },
  {
   "cell_type": "markdown",
   "metadata": {},
   "source": [
    "### General Assumptions\n",
    "\n",
    "- Make a credible case for a causal relationship, i.e. there is a model in play\n",
    "- Gauss-Markov Theorem\n",
    "- Neyman-Rubin Causal Model"
   ]
  },
  {
   "cell_type": "markdown",
   "metadata": {},
   "source": [
    "### Some Problems\n",
    "\n",
    "**Experimental Flaws**\n",
    "- Spill over effects\n",
    "- Insufficient Randomization\n",
    "- **Attrition**\n",
    "- **Partial Compliance**\n",
    "\n",
    "Existence of experimental flaws requires that additional methods be applied on top of traditional methods. Usually thought of as techniques for handling quasi-experimental data\n",
    "\n",
    "**Data Analysis/Modelling Problems**\n",
    "- Model misspecification error\n",
    "- Omitted variable bias (Confounding)\n",
    "- Selection bias\n",
    "  - Population studied may not be representative of the population of interest (returns to college education)\n",
    "  - Not the same joint probability distribution\n",
    "- Endogeneity Bias (Simultenaity)\n",
    "  - Non-random treatment assignment\n",
    "- Measurement Error\n",
    "- Data Snooping/Model Selection"
   ]
  },
  {
   "cell_type": "markdown",
   "metadata": {},
   "source": [
    "## Core Techniques\n",
    "\n",
    "- Multiple Regression\n",
    "- Difference-in-Difference\n",
    "  - Estimate a treatment effect when baseline data is available prior to treatment\n",
    "- Fixed Effects\n",
    "- Matching\n",
    "  - Overcome non-random treatment assignment\n",
    "- Instrumental Variables\n",
    "  - Overcome omitted variable bias and endogeneity bias\n",
    "- Regression Discontinuity\n",
    "  - Exploits thresholds (and entities just on either sides of them)\n",
    "- Synthetic Controls\n",
    "  - Use weighting to get a better control group"
   ]
  },
  {
   "cell_type": "markdown",
   "metadata": {},
   "source": [
    "## Machine Learning for Causal Inference\n",
    "\n",
    "- BART\n",
    "- SuperLearner\n",
    "- Causal Trees/Forests\n",
    "- DoubleML"
   ]
  },
  {
   "cell_type": "markdown",
   "metadata": {},
   "source": [
    "## Case Study: Estimating Heterogeneous Treatment Effects"
   ]
  },
  {
   "cell_type": "markdown",
   "metadata": {},
   "source": [
    "## Resources\n",
    "\n",
    "### Books\n",
    "- [Statistical Learning from a Regression Perspective]\n",
    "- [Data Analysis Using Regression and Multilevel/Hierarchical Models]\n",
    "- [Mostly Harmless Econometrics]\n",
    "- [Introduction to Statistical Learning]\n",
    "- [Elements of Statistical Learning]\n",
    "- [Introductory Econometrics: A Modern Approach]\n",
    "- [Econometric Analysis of Cross Section and Panel Data]\n",
    "- [Introduction to Econometrics]\n",
    "\n",
    "### Papers\n",
    "\n",
    "### Blogs\n",
    "- [Causal Forest Intro](https://www.markhw.com/blog/causalforestintro)"
   ]
  },
  {
   "cell_type": "code",
   "execution_count": null,
   "metadata": {},
   "outputs": [],
   "source": []
  }
 ],
 "metadata": {
  "kernelspec": {
   "display_name": "Python 3",
   "language": "python",
   "name": "python3"
  },
  "language_info": {
   "codemirror_mode": {
    "name": "ipython",
    "version": 3
   },
   "file_extension": ".py",
   "mimetype": "text/x-python",
   "name": "python",
   "nbconvert_exporter": "python",
   "pygments_lexer": "ipython3",
   "version": "3.7.3"
  }
 },
 "nbformat": 4,
 "nbformat_minor": 2
}
